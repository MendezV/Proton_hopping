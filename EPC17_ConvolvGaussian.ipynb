{
 "cells": [
  {
   "cell_type": "code",
   "execution_count": 32,
   "metadata": {},
   "outputs": [
    {
     "name": "stdout",
     "output_type": "stream",
     "text": [
      "Populating the interactive namespace from numpy and matplotlib\n"
     ]
    }
   ],
   "source": [
    "%pylab inline\n",
    "import numpy as np"
   ]
  },
  {
   "cell_type": "code",
   "execution_count": 33,
   "metadata": {},
   "outputs": [],
   "source": [
    "from mpmath import *\n",
    "mp.dps = 15; mp.pretty = True\n",
    "from scipy import special"
   ]
  },
  {
   "cell_type": "code",
   "execution_count": 47,
   "metadata": {},
   "outputs": [],
   "source": [
    "def EPC_17(a,b,c,sig,Sig):\n",
    "\n",
    "\n",
    "    lamb=np.exp(0.5*(Sig/sig)**2)*0.5*(1/(2*np.pi*(Sig**2)*(sig**2)))**(3/2);\n",
    "    cons1=0.5/Sig**2\n",
    "    cons2=Sig**2 /sig\n",
    "    \n",
    "    N=100000;\n",
    "    U=10000\n",
    "    u=np.arange(0,U,U/N)\n",
    "\n",
    "    \n",
    "    \n",
    "    out= -(U/N)*np.trapz(lamb*np.exp(-cons1*(u-cons2)**2)/ (a-b*np.sqrt(lamb)*np.exp(-0.5*cons1*(u-cons2)**2)+c*lamb*np.exp(-cons1*(u-cons2)**2)))\n",
    "    return out"
   ]
  },
  {
   "cell_type": "code",
   "execution_count": 48,
   "metadata": {},
   "outputs": [],
   "source": [
    "def Energy(a,b,c,sig,Sig):\n",
    "    M=1836.152\n",
    "    Te=2*(np.pi/sig**2)\n",
    "    Tp=(3/8)*(1/Sig**2) /M\n",
    "    Vcoul=sig**(-3) *(np.pi*np.exp(0.5* Sig**2 /sig**2) *(Sig**2 -sig**2)*special.erfc(np.sqrt(0.5* Sig**2 /sig**2))-np.sqrt(2*np.pi)*sig*Sig)\n",
    "    \n",
    "    \n",
    "    '''\n",
    "    abc=np.sqrt(4*a*c-b**2)\n",
    "    EPC17pre= (-4*(np.pi**(3/2))*(sig**3)*(Sig**3))/(c*abc*((sig**2+Sig**2)**(3/2)))  \n",
    "    EPC17_1=(-1j*b+abc)*polylog( 3/2,   (b-1j*abc)/(4*np.sqrt(2)*a* ((np.pi*sig*Sig)**(3/2))  ) )\n",
    "    EPC17_2=(1j*b+abc)*polylog(  3/2,  (b+1j*abc)/(4*np.sqrt(2)*a* ((np.pi*sig*Sig)**(3/2))  ) )\n",
    "    EPC17=EPC17pre*(EPC17_1+EPC17_2)\n",
    "    #print(EPC17)\n",
    "    '''\n",
    "    \n",
    "    \n",
    "    return  Te + Tp + Vcoul + EPC_17(a,b,c,sig,Sig)\n"
   ]
  },
  {
   "cell_type": "code",
   "execution_count": 49,
   "metadata": {},
   "outputs": [
    {
     "data": {
      "text/plain": [
       "'\\n\\ndef gradEnergy(a,b,c,sig,Sig,h):\\n    Grad1=(-Energy(a,b,c,sig+2*h,Sig)+8*Energy(a,b,c,sig+h,Sig)-8*Energy(a,b,c,sig-h,Sig)+Energy(a,b,c,sig-2*h,Sig))/(12*h)\\n    Grad2=(-Energy(a,b,c,sig,Sig+2*h)+8*Energy(a,b,c,sig,Sig+h)-8*Energy(a,b,c,sig,Sig-h)+Energy(a,b,c,sig,Sig-2*h))/(12*h)\\n    return np.array([Grad1,Grad2])\\n'"
      ]
     },
     "execution_count": 49,
     "metadata": {},
     "output_type": "execute_result"
    }
   ],
   "source": [
    "\n",
    "def gradEnergy(a,b,c,sig,Sig,h):\n",
    "    Grad1=(Energy(a,b,c,sig+h,Sig)-Energy(a,b,c,sig-h,Sig))/(2*h)\n",
    "    Grad2=(Energy(a,b,c,sig,Sig+h)-Energy(a,b,c,sig,Sig-h))/(2*h)\n",
    "    return np.array([real(Grad1),real(Grad2)])\n",
    "\n",
    "'''\n",
    "\n",
    "def gradEnergy(a,b,c,sig,Sig,h):\n",
    "    Grad1=(-Energy(a,b,c,sig+2*h,Sig)+8*Energy(a,b,c,sig+h,Sig)-8*Energy(a,b,c,sig-h,Sig)+Energy(a,b,c,sig-2*h,Sig))/(12*h)\n",
    "    Grad2=(-Energy(a,b,c,sig,Sig+2*h)+8*Energy(a,b,c,sig,Sig+h)-8*Energy(a,b,c,sig,Sig-h)+Energy(a,b,c,sig,Sig-2*h))/(12*h)\n",
    "    return np.array([Grad1,Grad2])\n",
    "'''"
   ]
  },
  {
   "cell_type": "code",
   "execution_count": 50,
   "metadata": {},
   "outputs": [
    {
     "name": "stdout",
     "output_type": "stream",
     "text": [
      "[1.         0.16666667] 3.021010732644768\n",
      "[1.95288063 0.13510827] -0.11107766088889137 3.1320883935336594 [-9.52880628  0.31558399]\n"
     ]
    }
   ],
   "source": [
    "a,b,c=[2.35,2.4,3.2]\n",
    "presSig=np.array([1,1/6])\n",
    "\n",
    "E0= Energy(a,b,c,presSig[0],presSig[1])\n",
    "print(presSig,E0)\n",
    "\n",
    "h=1E-5\n",
    "grad1=gradEnergy(a,b,c,presSig[0],presSig[1],h)\n",
    "\n",
    "step=0.1\n",
    "postsSig=presSig-step*grad1\n",
    "\n",
    "\n",
    "E1= Energy(a,b,c, real(postsSig[0]), real(postsSig[1]))\n",
    "delta=abs(E1-E0)\n",
    "E0=real(E1)\n",
    "\n",
    "print(postsSig,E1,delta, grad1)\n"
   ]
  },
  {
   "cell_type": "code",
   "execution_count": 1,
   "metadata": {},
   "outputs": [
    {
     "ename": "NameError",
     "evalue": "name 'postsSig' is not defined",
     "output_type": "error",
     "traceback": [
      "\u001b[0;31m---------------------------------------------------------------------------\u001b[0m",
      "\u001b[0;31mNameError\u001b[0m                                 Traceback (most recent call last)",
      "\u001b[0;32m<ipython-input-1-40793a67acf5>\u001b[0m in \u001b[0;36m<module>\u001b[0;34m()\u001b[0m\n\u001b[1;32m      8\u001b[0m \u001b[0mj\u001b[0m\u001b[0;34m=\u001b[0m\u001b[0;36m0\u001b[0m\u001b[0;34m\u001b[0m\u001b[0m\n\u001b[1;32m      9\u001b[0m \u001b[0;32mfor\u001b[0m \u001b[0mi\u001b[0m \u001b[0;32min\u001b[0m \u001b[0mrange\u001b[0m\u001b[0;34m(\u001b[0m\u001b[0mmax_iters\u001b[0m\u001b[0;34m)\u001b[0m\u001b[0;34m:\u001b[0m\u001b[0;34m\u001b[0m\u001b[0m\n\u001b[0;32m---> 10\u001b[0;31m     \u001b[0mpresSig\u001b[0m \u001b[0;34m=\u001b[0m \u001b[0mpostsSig\u001b[0m\u001b[0;34m\u001b[0m\u001b[0m\n\u001b[0m\u001b[1;32m     11\u001b[0m     \u001b[0mpostsSig\u001b[0m \u001b[0;34m=\u001b[0m \u001b[0mpresSig\u001b[0m \u001b[0;34m-\u001b[0m \u001b[0mgamma\u001b[0m \u001b[0;34m*\u001b[0m \u001b[0mgradEnergy\u001b[0m\u001b[0;34m(\u001b[0m\u001b[0ma\u001b[0m\u001b[0;34m,\u001b[0m\u001b[0mb\u001b[0m\u001b[0;34m,\u001b[0m\u001b[0mc\u001b[0m\u001b[0;34m,\u001b[0m\u001b[0mpresSig\u001b[0m\u001b[0;34m[\u001b[0m\u001b[0;36m0\u001b[0m\u001b[0;34m]\u001b[0m\u001b[0;34m,\u001b[0m\u001b[0mpresSig\u001b[0m\u001b[0;34m[\u001b[0m\u001b[0;36m1\u001b[0m\u001b[0;34m]\u001b[0m\u001b[0;34m,\u001b[0m\u001b[0mh\u001b[0m\u001b[0;34m)\u001b[0m\u001b[0;34m\u001b[0m\u001b[0m\n\u001b[1;32m     12\u001b[0m     \u001b[0mstep\u001b[0m \u001b[0;34m=\u001b[0m \u001b[0mnp\u001b[0m\u001b[0;34m.\u001b[0m\u001b[0msqrt\u001b[0m\u001b[0;34m(\u001b[0m\u001b[0mnp\u001b[0m\u001b[0;34m.\u001b[0m\u001b[0msum\u001b[0m\u001b[0;34m(\u001b[0m\u001b[0;34m(\u001b[0m\u001b[0mpostsSig\u001b[0m \u001b[0;34m-\u001b[0m \u001b[0mpresSig\u001b[0m\u001b[0;34m)\u001b[0m\u001b[0;34m**\u001b[0m\u001b[0;36m2\u001b[0m\u001b[0;34m)\u001b[0m\u001b[0;34m)\u001b[0m\u001b[0;34m\u001b[0m\u001b[0m\n",
      "\u001b[0;31mNameError\u001b[0m: name 'postsSig' is not defined"
     ]
    }
   ],
   "source": [
    "\n",
    "gamma = 1E-1 # Step size multiplier\n",
    "precision = 1E-5  # Desired precision of result\n",
    "max_iters = 100000  # Maximum number of iterations\n",
    "\n",
    "# Derivative function\n",
    "\n",
    "j=0\n",
    "for i in range(max_iters):\n",
    "    presSig = postsSig\n",
    "    postsSig = presSig - gamma * gradEnergy(a,b,c,presSig[0],presSig[1],h)\n",
    "    step = np.sqrt(np.sum((postsSig - presSig)**2))\n",
    "    j=j+1\n",
    "    if abs(step) <= precision:\n",
    "        break\n",
    "    \n",
    "print(\"Minimum at\", postsSig, \"With energy\",Energy(a, b, c, real(postsSig[0]), real(postsSig[1])),\" within\" , j, \"iterations\")\n",
    "    "
   ]
  },
  {
   "cell_type": "code",
   "execution_count": 31,
   "metadata": {},
   "outputs": [],
   "source": [
    "#Minimum at [4.03254744 0.31332375] With energy -0.3884257151841042  within 1682 iterations"
   ]
  },
  {
   "cell_type": "code",
   "execution_count": null,
   "metadata": {},
   "outputs": [],
   "source": []
  },
  {
   "cell_type": "code",
   "execution_count": null,
   "metadata": {},
   "outputs": [],
   "source": []
  },
  {
   "cell_type": "code",
   "execution_count": null,
   "metadata": {},
   "outputs": [],
   "source": []
  },
  {
   "cell_type": "markdown",
   "metadata": {},
   "source": []
  },
  {
   "cell_type": "code",
   "execution_count": null,
   "metadata": {},
   "outputs": [],
   "source": []
  },
  {
   "cell_type": "code",
   "execution_count": null,
   "metadata": {},
   "outputs": [],
   "source": []
  },
  {
   "cell_type": "code",
   "execution_count": null,
   "metadata": {},
   "outputs": [],
   "source": [
    "#do not erase, converged calculation for the epc functional \n",
    "\n",
    "print(\"Minimum at\", postsSig, \"With energy\",Energy(a, b, c, real(postsSig[0]), real(postsSig[1])),\" within\" , j, \"iterations\")\n",
    "    "
   ]
  }
 ],
 "metadata": {
  "kernelspec": {
   "display_name": "Python 3",
   "language": "python",
   "name": "python3"
  },
  "language_info": {
   "codemirror_mode": {
    "name": "ipython",
    "version": 3
   },
   "file_extension": ".py",
   "mimetype": "text/x-python",
   "name": "python",
   "nbconvert_exporter": "python",
   "pygments_lexer": "ipython3",
   "version": "3.7.0"
  }
 },
 "nbformat": 4,
 "nbformat_minor": 2
}
