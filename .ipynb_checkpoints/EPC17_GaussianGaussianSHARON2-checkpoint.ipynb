{
 "cells": [
  {
   "cell_type": "code",
   "execution_count": 1,
   "metadata": {},
   "outputs": [
    {
     "name": "stdout",
     "output_type": "stream",
     "text": [
      "Populating the interactive namespace from numpy and matplotlib\n"
     ]
    }
   ],
   "source": [
    "%pylab inline\n",
    "import numpy as np"
   ]
  },
  {
   "cell_type": "code",
   "execution_count": 2,
   "metadata": {},
   "outputs": [],
   "source": [
    "def excVWN(n):\n",
    "  # Constants\n",
    "    X1 = 0.75*(3.0/(2.0*pi))**(2.0/3.0);\n",
    "    A  =  0.0310907;\n",
    "    x0 = -0.10498;\n",
    "    b  = 3.72744;\n",
    "    c  = 12.9352;\n",
    "    Q  = sqrt(4*c-b*b);\n",
    "    X0 = x0*x0+b*x0+c;\n",
    "\n",
    "    rs=(4*pi/3*n)**(-1/3); # Added internal conversion to rs\n",
    "  \n",
    "    x=sqrt(rs); \n",
    "    X=x*x+b*x+c;\n",
    "\n",
    "    out=-X1/rs+ A*(log(x*x/X)+2*b/Q*np.arctan(Q/(2*x+b))-(b*x0)/X0*(log((x-x0)*(x-x0)/X)+2*(2*x0+b)/Q*np.arctan(Q/(2*x+b)) ) );\n",
    "    return out\n",
    "\n",
    "\n",
    "def excVWNp(n):\n",
    "  # Constants\n",
    "    Mp = 1800 #1836.152\n",
    "    X1 = 0.75*(3.0/(2.0*pi))**(2.0/3.0);\n",
    "    A  =  0.0310907;\n",
    "    x0 = -0.10498;\n",
    "    b  = 3.72744;\n",
    "    c  = 12.9352;\n",
    "    Q  = sqrt(4*c-b*b);\n",
    "    X0 = x0*x0+b*x0+c;\n",
    " \n",
    "    rs=1/((4*pi/3*(n / Mp**3 ))**(1/3)); # Added internal conversion to rs\n",
    "  \n",
    "    x=sqrt(rs); \n",
    "    X=x*x+b*x+c;\n",
    "\n",
    "    out=-X1/rs+ A*(log(x*x/X)+2*b/Q*np.arctan(Q/(2*x+b))-(b*x0)/X0*(log((x-x0)*(x-x0)/X)+2*(2*x0+b)/Q*np.arctan(Q/(2*x+b)) ) );\n",
    "    return Mp * out"
   ]
  },
  {
   "cell_type": "code",
   "execution_count": 3,
   "metadata": {},
   "outputs": [],
   "source": [
    "#crear densidad gaussiana 3d protones y electrones \n",
    "\n",
    "\n",
    "\n",
    "S=[300, 300, 300];\n",
    "\n",
    "\n",
    "a=5.66/0.52917721; # Lattice constant (converted from angstroms to bohrs)\n",
    "\n",
    "R=a*np.diag(np.ones(3)); # Cubic lattice\n",
    "\n",
    "# Code fragment to create columns of m1, m2, m3 indices\n",
    "ms=np.arange(0,np.prod(S)).T; # Count from zero to S1*S2*s3-1 in a column vector\n",
    "m1=ms%S[0];\n",
    "m2=floor(ms/S[0])%S[1];\n",
    "m3=floor(ms/(S[0]*S[1]))%S[2];\n",
    "\n",
    "\n",
    "\n",
    "# Wrap indices to +/- Fourier convention\n",
    "n1=m1-(m1>S[0]/2)*S[0];\n",
    "n2=m2-(m2>S[1]/2)*S[1];\n",
    "n3=m3-(m3>S[2]/2)*S[2];\n",
    "\n",
    "# Gather indices into columns of a matrices\n",
    "N=[n1, n2, n3];\n",
    "M=[m1, m2, m3];\n",
    "\n",
    "\n",
    "## Compute Cartesian coords of grid points\n",
    "r=np.dot((R.T),np.dot(inv(diag(S)),M)); # Scale by 1/S(), mult by real-space vectors (L's)\n",
    "\n",
    "# Compute reciprocal-space vectors and lengths\n",
    "G=2*pi*np.dot(inv(R.T),N);\n",
    "G2=sum( G**2, axis=1);\n",
    "\n",
    "dr=r-np.dot(np.mat(diag(R)).T,np.ones([prod(S),1]).T)/2;\n",
    "dr=np.sqrt(np.sum(np.array(dr)**2,0))\n",
    "\n",
    "#print(shape(dr),shape(M))\n",
    "\n",
    "sig=1\n",
    "Sig=1/4\n",
    "psi1=(1/(2*pi*sig**2)**(3/4))*exp(-dr**2/(4*sig**2))\n",
    "psi2=(1/(2*pi*Sig**2)**(3/4))*exp(-dr**2/(4*Sig**2))"
   ]
  },
  {
   "cell_type": "code",
   "execution_count": 4,
   "metadata": {},
   "outputs": [
    {
     "name": "stdout",
     "output_type": "stream",
     "text": [
      "0.9999997322602728 normalization electron gaussian\n",
      "0.9999999999999998 normalization proton gaussian\n"
     ]
    },
    {
     "data": {
      "image/png": "[encoded data removed]",
      "text/plain": [
       "<Figure size 432x288 with 1 Axes>"
      ]
     },
     "metadata": {
      "needs_background": "light"
     },
     "output_type": "display_data"
    }
   ],
   "source": [
    "#probar densidad gaussiana\n",
    "plt.imshow(reshape(psi2,S)[30,:,:])\n",
    "print(np.sum(psi1*np.conj(psi1))*np.linalg.det(R)/np.prod(S),\"normalization electron gaussian\")\n",
    "print(np.sum(psi2*np.conj(psi2))*np.linalg.det(R)/np.prod(S),\"normalization proton gaussian\")"
   ]
  },
  {
   "cell_type": "code",
   "execution_count": 5,
   "metadata": {},
   "outputs": [
    {
     "name": "stdout",
     "output_type": "stream",
     "text": [
      "-0.2316501949474182 -1.4039352424449631\n"
     ]
    }
   ],
   "source": [
    "# crear transformada de fourier inversa 3d en array compacto (necesita inicializar lattice )\n",
    "Psit1=np.fft.fftn(reshape(psi1,S), axes=(0, 1, 2))\n",
    "np.sum(psi1*np.conj(psi1))*np.linalg.det(R)/np.prod(S)\n",
    "# Operador de overlap\n",
    "O=np.linalg.det(R)\n",
    "ndens=psi1*psi1\n",
    "Ndens=psi2*psi2\n",
    "#poner todo junto\n",
    "E_ex_e=real( np.trapz((excVWN(ndens))*ndens )*np.linalg.det(R)/np.prod(S));\n",
    "E_ex_p=real( np.trapz((excVWNp(Ndens))*Ndens )*np.linalg.det(R)/np.prod(S));\n",
    "print(E_ex_e, E_ex_p)"
   ]
  },
  {
   "cell_type": "code",
   "execution_count": 6,
   "metadata": {},
   "outputs": [
    {
     "name": "stdout",
     "output_type": "stream",
     "text": [
      "-0.810151378688813\n",
      "-0.39620590148651225\n",
      "-1.3573257648989483\n",
      "-0.6372060569165849\n"
     ]
    }
   ],
   "source": [
    "#checking that my implementation of Exc works\n",
    "print(excVWN(1)) #should be -0.81015\n",
    "print(excVWN(.1)) #should be -0.39621\n",
    "\n",
    "\n",
    "print(excVWNp(1)) #should be -1.3573 (for Mp=1800)\n",
    "print(excVWNp(.1)) #should be -0.63721 (for Mp=1800)"
   ]
  },
  {
   "cell_type": "code",
   "execution_count": 7,
   "metadata": {},
   "outputs": [
    {
     "data": {
      "text/plain": [
       "10.695849883633501"
      ]
     },
     "execution_count": 7,
     "metadata": {},
     "output_type": "execute_result"
    }
   ],
   "source": [
    "a"
   ]
  },
  {
   "cell_type": "code",
   "execution_count": 8,
   "metadata": {},
   "outputs": [
    {
     "name": "stdout",
     "output_type": "stream",
     "text": [
      "-0.22945914990681968 nan agreement to 1E-9\n",
      "0.9682158986536409\n"
     ]
    },
    {
     "name": "stderr",
     "output_type": "stream",
     "text": [
      "/Users/juanmendezvalderrama/anaconda3/lib/python3.7/site-packages/ipykernel_launcher.py:18: RuntimeWarning: divide by zero encountered in log10\n",
      "/Users/juanmendezvalderrama/anaconda3/lib/python3.7/site-packages/ipykernel_launcher.py:31: RuntimeWarning: divide by zero encountered in true_divide\n",
      "/Users/juanmendezvalderrama/anaconda3/lib/python3.7/site-packages/ipykernel_launcher.py:36: RuntimeWarning: invalid value encountered in true_divide\n"
     ]
    },
    {
     "data": {
      "image/png": "[encoded data removed]",
      "text/plain": [
       "<Figure size 432x288 with 1 Axes>"
      ]
     },
     "metadata": {
      "needs_background": "light"
     },
     "output_type": "display_data"
    }
   ],
   "source": [
    "##from mpmath import *\n",
    "#mp.dps = 15; mp.pretty = True\n",
    "\n",
    "a,b,c=[2.35,2.4,3.2]   #for epc17-1\n",
    "#a,b,c=[2.35,2.4,6.6]   #for epc17-2\n",
    "sig=1\n",
    "Sig=1/40\n",
    "\n",
    "N=100;\n",
    "#U=10.695849883633501 /2\n",
    "U=3\n",
    "rr=np.arange(0,U,U/N)\n",
    "ndens2=((1/(2*pi*sig**2)**(3/4))*exp(-rr**2/(4*sig**2)))**2\n",
    "Ndens2=((1/(2*pi*Sig**2)**(3/4))*exp(-rr**2/(4*Sig**2)))**2\n",
    "difr=U/N\n",
    "\n",
    "plot(rr,log10(ndens2))\n",
    "plot(rr,log10(Ndens2))\n",
    "#plot(rr[1:],(1/(2*pi*sig**2)**(3/2))*rr[1:]/rr[1:])\n",
    "\n",
    "\n",
    "Exc_e= difr*np.trapz((excVWN(ndens2))*ndens2*rr*rr*4*np.pi)\n",
    "Exc_p= difr*np.trapz((excVWNp(Ndens2))*Ndens2*rr*rr*4*np.pi)\n",
    "print(Exc_e,Exc_p, \"agreement to 1E-9\")\n",
    "Norm1= difr*np.trapz(ndens2*rr*rr*4*np.pi)\n",
    "Norm2= difr*np.trapz(Ndens2*rr*rr*4*np.pi)\n",
    "print(Norm1)"
   ]
  },
  {
   "cell_type": "code",
   "execution_count": 9,
   "metadata": {},
   "outputs": [],
   "source": [
    "def EPC_17(a,b,c,sig,Sig):\n",
    "    \n",
    "    lamb=(1/(2*np.pi*(Sig)*(sig)))**3\n",
    "    alphe=1/(1/Sig**2+1/sig**2)\n",
    "    \n",
    "    N=100000;\n",
    "    U=10000\n",
    "    u=np.arange(0,U,U/N)\n",
    "\n",
    "    \n",
    "    \n",
    "    out= -4*pi*(U/N)*np.trapz((u**2)*lamb*np.exp(-u**2 /(2*alphe) )/ (a-b*np.sqrt(lamb)*np.exp(-u**2 /(4*alphe) )+c*lamb*np.exp(-u**2 /(2*alphe) )))\n",
    "    return out\n",
    "\n",
    "def Energy(a,b,c,sig,Sig):\n",
    "    M=1836.152\n",
    "    Te=(3/8)*(1/sig**2)\n",
    "    Tp=(3/8)*(1/Sig**2) /M\n",
    "    Vcoul=np.sqrt(2/np.pi)/np.sqrt(sig**2 +Sig**2)\n",
    "    #abc=np.sqrt(4*a*c-b**2)\n",
    "    #EPC17pre= (-4*(np.pi**(3/2))*(sig**3)*(Sig**3))/(c*abc*((sig**2+Sig**2)**(3/2)))  \n",
    "    #EPC17_1=(-1j*b+abc)*polylog( 3/2,   (b-1j*abc)/(4*np.sqrt(2)*a* ((np.pi*sig*Sig)**(3/2))  ) )\n",
    "    #EPC17_2=(1j*b+abc)*polylog(  3/2,  (b+1j*abc)/(4*np.sqrt(2)*a* ((np.pi*sig*Sig)**(3/2))  ) )\n",
    "    #SHO=0.5*(0.2*10)*Sig**2\n",
    "    #EPC17=EPC17pre*(EPC17_1+EPC17_2)\n",
    "    EPC17=EPC_17(a,b,c,sig,Sig)\n",
    "    Vautointele=np.sqrt(1/np.pi)/sig\n",
    "    Vautointprot=np.sqrt(1/np.pi)/Sig\n",
    "    \n",
    "    N=100000;\n",
    "    U=10.695849883633501 /2\n",
    "    #U=5\n",
    "\n",
    "    rr=np.arange(0,U,U/N)\n",
    "    ndens2=((1/(2*pi*sig**2)**(3/4))*exp(-rr**2/(4*sig**2)))**2\n",
    "    Ndens2=((1/(2*pi*Sig**2)**(3/4))*exp(-rr**2/(4*Sig**2)))**2\n",
    "    difr=U/N\n",
    "    ndens2[np.where(ndens2<1E-17)]=1E-17\n",
    "    Ndens2[np.where(Ndens2<1E-17)]=1E-17\n",
    "\n",
    "    Exc_e= difr*np.trapz((excVWN(ndens2))*ndens2*rr*rr*4*np.pi)\n",
    "    Exc_p= difr*np.trapz((excVWNp(Ndens2))*Ndens2*rr*rr*4*np.pi)\n",
    "    \n",
    "    #print(EPC17)\n",
    "    return Te+Tp +Exc_e+Exc_p-Vcoul +0.5*Vautointele+0.5*Vautointprot +real(EPC17)\n",
    "    #return Exc_p"
   ]
  },
  {
   "cell_type": "code",
   "execution_count": 10,
   "metadata": {},
   "outputs": [
    {
     "data": {
      "text/plain": [
       "'\\n\\ndef gradEnergy(a,b,c,sig,Sig,h):\\n    Grad1=(-Energy(a,b,c,sig+2*h,Sig)+8*Energy(a,b,c,sig+h,Sig)-8*Energy(a,b,c,sig-h,Sig)+Energy(a,b,c,sig-2*h,Sig))/(12*h)\\n    Grad2=(-Energy(a,b,c,sig,Sig+2*h)+8*Energy(a,b,c,sig,Sig+h)-8*Energy(a,b,c,sig,Sig-h)+Energy(a,b,c,sig,Sig-2*h))/(12*h)\\n    return np.array([Grad1,Grad2])\\n'"
      ]
     },
     "execution_count": 10,
     "metadata": {},
     "output_type": "execute_result"
    }
   ],
   "source": [
    "\n",
    "def gradEnergy(a,b,c,sig,Sig,h):\n",
    "    Grad1=(Energy(a,b,c,sig+h,Sig)-Energy(a,b,c,sig-h,Sig))/(2*h)\n",
    "    Grad2=(Energy(a,b,c,sig,Sig+h)-Energy(a,b,c,sig,Sig-h))/(2*h)\n",
    "    return np.array([real(Grad1),real(Grad2)])\n",
    "\n",
    "'''\n",
    "\n",
    "def gradEnergy(a,b,c,sig,Sig,h):\n",
    "    Grad1=(-Energy(a,b,c,sig+2*h,Sig)+8*Energy(a,b,c,sig+h,Sig)-8*Energy(a,b,c,sig-h,Sig)+Energy(a,b,c,sig-2*h,Sig))/(12*h)\n",
    "    Grad2=(-Energy(a,b,c,sig,Sig+2*h)+8*Energy(a,b,c,sig,Sig+h)-8*Energy(a,b,c,sig,Sig-h)+Energy(a,b,c,sig,Sig-2*h))/(12*h)\n",
    "    return np.array([Grad1,Grad2])\n",
    "'''"
   ]
  },
  {
   "cell_type": "code",
   "execution_count": 11,
   "metadata": {},
   "outputs": [
    {
     "data": {
      "text/plain": [
       "-1.7381891836175816"
      ]
     },
     "execution_count": 11,
     "metadata": {},
     "output_type": "execute_result"
    }
   ],
   "source": [
    "sig=1.1\n",
    "Sig=1/40\n",
    "Energy(a,b,c,sig,Sig) #for Sig=1/2 and sig=1 should be -0.43294 For Sig=1/4 sig=1 should be -0.62090, -0.74004\n"
   ]
  },
  {
   "cell_type": "markdown",
   "metadata": {},
   "source": [
    "For $\\sigma$=1 and $\\Sigma$=1/6  \n",
    "\n",
    "\n",
    "\n",
    "For python radial integration\n",
    "\n",
    "T=0.3823523324866351\n",
    "EHart= 1.187635059721722\n",
    "EPC=-0.029115955315422756\n",
    "Exce= -0.23165018668984175\n",
    "Excp=-2.088209566937999\n",
    "Tot=-0.7789883167349063\n",
    "\n",
    "For octave\n",
    "\n",
    "S=[120,120,120]\n",
    "\n",
    "\n",
    "T=0.38250\n",
    "EHart=1.1876\n",
    "EPC=-0.029118\n",
    "Exce=-0.23165\n",
    "Excp=-2.0882\n",
    "Tot=-0.77886\n",
    "\n",
    "S=[80,80,80]\n",
    "\n",
    "For octave\n",
    "T=0.38242\n",
    "EHart= 1.1543\n",
    "EPC=-0.029479\n",
    "Exce=-0.23165\n",
    "Excp=-2.0524\n",
    "Tot=-0.77674"
   ]
  },
  {
   "cell_type": "code",
   "execution_count": 12,
   "metadata": {},
   "outputs": [
    {
     "name": "stdout",
     "output_type": "stream",
     "text": [
      "[1.         0.01428571] -1.5698332399362454\n",
      "[1.00000239 0.02333687] -1.7583454473559919 0.1885122074197465 [-2.38835748e-02 -9.05115981e+01]\n"
     ]
    }
   ],
   "source": [
    "\n",
    "#a,b,c=[2.35,2.4,3.2]   #for epc17-1\n",
    "a,b,c=[2.35,2.4,6.6]   #for epc17-2\n",
    "presSig=np.array([1,1/70])\n",
    "\n",
    "E0= Energy(a,b,c,presSig[0],presSig[1])\n",
    "print(presSig,E0)\n",
    "\n",
    "h=1E-5\n",
    "grad1=gradEnergy(a,b,c,presSig[0],presSig[1],h)\n",
    "\n",
    "step=0.0001\n",
    "postsSig=presSig-step*grad1\n",
    "\n",
    "\n",
    "E1= Energy(a,b,c, real(postsSig[0]), real(postsSig[1]))\n",
    "delta=abs(E1-E0)\n",
    "E0=real(E1)\n",
    "\n",
    "print(postsSig,E1,delta, grad1)\n"
   ]
  },
  {
   "cell_type": "code",
   "execution_count": 13,
   "metadata": {},
   "outputs": [
    {
     "name": "stdout",
     "output_type": "stream",
     "text": [
      "0.0009797287210488448 -1.7666776847084928 1.000004759899298 0.022357148248550555\n",
      "0.0007085850790325697 -1.7708472185138482 1.0000071542605606 0.021648567214891216\n",
      "0.00046007984602367533 -1.7725370094092556 1.000009557432551 0.021188493645250932\n",
      "0.0002704671608131506 -1.7731039800270902 1.0000119635648688 0.02091803718737722\n",
      "0.00014725925459396565 -1.7732688971842678 1.0000143705831734 0.020770797605992146\n",
      "7.624924500864158e-05 -1.773312644364507 1.0000167777930171 0.020694586368597938\n",
      "3.838083523996566e-05 -1.7733236759512903 1.000019184957476 0.020656281093856914\n",
      "1.910424181761539e-05 -1.7733264124092991 1.0000215919895796 0.02063732909523202\n",
      "9.607743444488151e-06 -1.773327114676785 1.0000239988543893 0.020628027711685308\n",
      "Minimum at [1.000024   0.02062803] With energy -1.773327114676785  within 9 iterations\n"
     ]
    }
   ],
   "source": [
    "\n",
    "gamma = 1E-4 # Step size multiplier\n",
    "precision = 1E-5  # Desired precision of result\n",
    "max_iters = 1000  # Maximum number of iterations\n",
    "\n",
    "# Derivative function\n",
    "\n",
    "j=0\n",
    "for i in range(max_iters):\n",
    "    presSig = postsSig\n",
    "    postsSig = presSig - gamma * gradEnergy(a,b,c,presSig[0],presSig[1],h)\n",
    "    step = np.sqrt(np.sum((postsSig - presSig)**2))\n",
    "    j=j+1\n",
    "    print(step,Energy(a,b,c, real(postsSig[0]), real(postsSig[1])),real(postsSig[0]), real(postsSig[1]))\n",
    "    if abs(step) <= precision:\n",
    "        break\n",
    "    \n",
    "print(\"Minimum at\", postsSig, \"With energy\",Energy(a, b, c, real(postsSig[0]), real(postsSig[1])),\" within\" , j, \"iterations\")\n",
    "    "
   ]
  },
  {
   "cell_type": "code",
   "execution_count": 14,
   "metadata": {},
   "outputs": [],
   "source": [
    "#Minimum at [0.907835159632385 0.13280468946499] With energy -0.416377344520392  within 60 iterations"
   ]
  },
  {
   "cell_type": "code",
   "execution_count": null,
   "metadata": {},
   "outputs": [],
   "source": []
  },
  {
   "cell_type": "code",
   "execution_count": null,
   "metadata": {},
   "outputs": [],
   "source": []
  },
  {
   "cell_type": "code",
   "execution_count": 103,
   "metadata": {},
   "outputs": [
    {
     "name": "stdout",
     "output_type": "stream",
     "text": [
      "Populating the interactive namespace from numpy and matplotlib\n"
     ]
    },
    {
     "ename": "NameError",
     "evalue": "name 'Energy' is not defined",
     "output_type": "error",
     "traceback": [
      "\u001b[0;31m---------------------------------------------------------------------------\u001b[0m",
      "\u001b[0;31mNameError\u001b[0m                                 Traceback (most recent call last)",
      "\u001b[0;32m<ipython-input-103-4d043fe9a2b5>\u001b[0m in \u001b[0;36m<module>\u001b[0;34m()\u001b[0m\n\u001b[1;32m     12\u001b[0m \u001b[0;34m\u001b[0m\u001b[0m\n\u001b[1;32m     13\u001b[0m \u001b[0mout\u001b[0m\u001b[0;34m=\u001b[0m\u001b[0;34m-\u001b[0m\u001b[0;36m4\u001b[0m\u001b[0;34m*\u001b[0m\u001b[0mnp\u001b[0m\u001b[0;34m.\u001b[0m\u001b[0mpi\u001b[0m\u001b[0;34m*\u001b[0m\u001b[0mpre\u001b[0m\u001b[0;34m*\u001b[0m\u001b[0mal\u001b[0m\u001b[0;34m**\u001b[0m\u001b[0;34m(\u001b[0m\u001b[0;34m-\u001b[0m\u001b[0;36m1.5\u001b[0m\u001b[0;34m)\u001b[0m\u001b[0;34m*\u001b[0m\u001b[0msum\u001b[0m\u001b[0;34m(\u001b[0m \u001b[0;34m(\u001b[0m\u001b[0mu\u001b[0m\u001b[0;34m**\u001b[0m\u001b[0;36m2\u001b[0m \u001b[0;34m*\u001b[0m\u001b[0mexp\u001b[0m\u001b[0;34m(\u001b[0m\u001b[0;34m-\u001b[0m\u001b[0mu\u001b[0m\u001b[0;34m**\u001b[0m\u001b[0;36m2\u001b[0m\u001b[0;34m)\u001b[0m\u001b[0;34m)\u001b[0m\u001b[0;34m/\u001b[0m\u001b[0;34m(\u001b[0m\u001b[0ma\u001b[0m\u001b[0;34m-\u001b[0m\u001b[0mb\u001b[0m\u001b[0;34m*\u001b[0m\u001b[0msqrt\u001b[0m\u001b[0;34m(\u001b[0m\u001b[0mpre\u001b[0m\u001b[0;34m*\u001b[0m\u001b[0mexp\u001b[0m\u001b[0;34m(\u001b[0m\u001b[0;34m-\u001b[0m\u001b[0mu\u001b[0m\u001b[0;34m**\u001b[0m\u001b[0;36m2\u001b[0m\u001b[0;34m)\u001b[0m\u001b[0;34m)\u001b[0m\u001b[0;34m+\u001b[0m\u001b[0mc\u001b[0m\u001b[0;34m*\u001b[0m\u001b[0mpre\u001b[0m\u001b[0;34m*\u001b[0m\u001b[0mexp\u001b[0m\u001b[0;34m(\u001b[0m\u001b[0;34m-\u001b[0m\u001b[0mu\u001b[0m\u001b[0;34m**\u001b[0m\u001b[0;36m2\u001b[0m\u001b[0;34m)\u001b[0m\u001b[0;34m)\u001b[0m \u001b[0;34m)\u001b[0m\u001b[0;34m*\u001b[0m\u001b[0mU\u001b[0m\u001b[0;34m/\u001b[0m\u001b[0mN\u001b[0m\u001b[0;34m;\u001b[0m\u001b[0;34m\u001b[0m\u001b[0m\n\u001b[0;32m---> 14\u001b[0;31m \u001b[0mprint\u001b[0m\u001b[0;34m(\u001b[0m\u001b[0mout\u001b[0m\u001b[0;34m,\u001b[0m\u001b[0mEnergy\u001b[0m\u001b[0;34m(\u001b[0m\u001b[0ma\u001b[0m\u001b[0;34m,\u001b[0m\u001b[0mb\u001b[0m\u001b[0;34m,\u001b[0m\u001b[0mc\u001b[0m\u001b[0;34m,\u001b[0m\u001b[0msig\u001b[0m\u001b[0;34m,\u001b[0m\u001b[0mSig\u001b[0m\u001b[0;34m)\u001b[0m\u001b[0;34m)\u001b[0m\u001b[0;34m\u001b[0m\u001b[0m\n\u001b[0m",
      "\u001b[0;31mNameError\u001b[0m: name 'Energy' is not defined"
     ]
    }
   ],
   "source": [
    "%pylab inline\n",
    "a=2.35; b=2.4; c=3.2;\n",
    "sig=1\n",
    "Sig=1/2 *1E-5\n",
    "pre=1/(2*pi*sig*Sig)**3\n",
    "al=0.5*(1/sig**2+1/Sig**2)\n",
    "\n",
    "N=10000\n",
    "U=1000\n",
    "u=np.arange(0,U,U/N)\n",
    "\n",
    "\n",
    "out=-4*np.pi*pre*al**(-1.5)*sum( (u**2 *exp(-u**2))/(a-b*sqrt(pre*exp(-u**2))+c*pre*exp(-u**2)) )*U/N;\n",
    "print(out,Energy(a,b,c,sig,Sig))"
   ]
  },
  {
   "cell_type": "code",
   "execution_count": 16,
   "metadata": {},
   "outputs": [
    {
     "name": "stdout",
     "output_type": "stream",
     "text": [
      "Populating the interactive namespace from numpy and matplotlib\n"
     ]
    },
    {
     "data": {
      "text/plain": [
       "[<matplotlib.lines.Line2D at 0x14b1216d8>]"
      ]
     },
     "execution_count": 16,
     "metadata": {},
     "output_type": "execute_result"
    },
    {
     "data": {
      "image/png": "[encoded data removed]",
      "text/plain": [
       "<Figure size 432x288 with 1 Axes>"
      ]
     },
     "metadata": {
      "needs_background": "light"
     },
     "output_type": "display_data"
    }
   ],
   "source": [
    "%pylab inline\n",
    "cx=np.linspace(-10,10,1000)\n",
    "plot(cx,np.exp(-0.5*cx**2 /(2*(1/6)**2) ))\n",
    "plot(cx,np.exp(-0.5*cx**2 /(2*(1)**2) ))"
   ]
  },
  {
   "cell_type": "code",
   "execution_count": null,
   "metadata": {},
   "outputs": [],
   "source": []
  },
  {
   "cell_type": "code",
   "execution_count": null,
   "metadata": {},
   "outputs": [],
   "source": []
  },
  {
   "cell_type": "code",
   "execution_count": 8,
   "metadata": {},
   "outputs": [
    {
     "name": "stdout",
     "output_type": "stream",
     "text": [
      "Minimum at [0.960089147599263 0.185027812603674] With energy -0.427957172507869  within 10000 iterations\n"
     ]
    }
   ],
   "source": [
    "#do not erase, converged calculation for the epc functional \n",
    "\n",
    "print(\"Minimum at\", postsSig, \"With energy\",Energy(a, b, c, real(postsSig[0]), real(postsSig[1])),\" within\" , j, \"iterations\")\n",
    "    "
   ]
  },
  {
   "cell_type": "code",
   "execution_count": null,
   "metadata": {},
   "outputs": [],
   "source": [
    " ssig=sum(nele.*dr.*dr)*det(gbl_R)/prod(gbl_S)\n",
    "ssig =  6.043304402648485\n",
    "octave:38> sSig=sum(Npro.*dr.*dr)*det(gbl_R)/prod(gbl_S)\n",
    "sSig =    6.303874680199510e-01\n",
    "\n",
    "\n",
    "sSig=sum(Npro.*dr.*dr)*det(gbl_R)/prod(gbl_S)\n",
    "sSig =  1.261719557959719\n",
    "octave:49> sSig=sum(nele.*dr.*dr)*det(gbl_R)/prod(gbl_S)\n",
    "sSig =  6.116323678266423"
   ]
  }
 ],
 "metadata": {
  "kernelspec": {
   "display_name": "Python 3",
   "language": "python",
   "name": "python3"
  },
  "language_info": {
   "codemirror_mode": {
    "name": "ipython",
    "version": 3
   },
   "file_extension": ".py",
   "mimetype": "text/x-python",
   "name": "python",
   "nbconvert_exporter": "python",
   "pygments_lexer": "ipython3",
   "version": "3.7.0"
  }
 },
 "nbformat": 4,
 "nbformat_minor": 2
}
