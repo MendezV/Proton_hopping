{
 "cells": [
  {
   "cell_type": "code",
   "execution_count": 1,
   "metadata": {},
   "outputs": [
    {
     "name": "stdout",
     "output_type": "stream",
     "text": [
      "Populating the interactive namespace from numpy and matplotlib\n"
     ]
    }
   ],
   "source": [
    "%pylab inline\n",
    "import numpy as np"
   ]
  },
  {
   "cell_type": "code",
   "execution_count": 2,
   "metadata": {},
   "outputs": [],
   "source": [
    "def excVWN(n):\n",
    "  # Constants\n",
    "    X1 = 0.75*(3.0/(2.0*pi))**(2.0/3.0);\n",
    "    A  =  0.0310907;\n",
    "    x0 = -0.10498;\n",
    "    b  = 3.72744;\n",
    "    c  = 12.9352;\n",
    "    Q  = sqrt(4*c-b*b);\n",
    "    X0 = x0*x0+b*x0+c;\n",
    "\n",
    "    rs=(4*pi/3*n)**(-1/3); # Added internal conversion to rs\n",
    "  \n",
    "    x=sqrt(rs); \n",
    "    X=x*x+b*x+c;\n",
    "\n",
    "    out=-X1/rs+ A*(log(x*x/X)+2*b/Q*np.arctan(Q/(2*x+b))-(b*x0)/X0*(log((x-x0)*(x-x0)/X)+2*(2*x0+b)/Q*np.arctan(Q/(2*x+b)) ) );\n",
    "    return out\n",
    "\n",
    "\n",
    "def excVWNp(n):\n",
    "  # Constants\n",
    "    Mp = 1800 #1836.152\n",
    "    X1 = 0.75*(3.0/(2.0*pi))**(2.0/3.0);\n",
    "    A  =  0.0310907;\n",
    "    x0 = -0.10498;\n",
    "    b  = 3.72744;\n",
    "    c  = 12.9352;\n",
    "    Q  = sqrt(4*c-b*b);\n",
    "    X0 = x0*x0+b*x0+c;\n",
    " \n",
    "    rs=1/((4*pi/3*(n / Mp**3 ))**(1/3)); # Added internal conversion to rs\n",
    "  \n",
    "    x=sqrt(rs); \n",
    "    X=x*x+b*x+c;\n",
    "\n",
    "    out=-X1/rs+ A*(log(x*x/X)+2*b/Q*np.arctan(Q/(2*x+b))-(b*x0)/X0*(log((x-x0)*(x-x0)/X)+2*(2*x0+b)/Q*np.arctan(Q/(2*x+b)) ) );\n",
    "    return Mp * out"
   ]
  },
  {
   "cell_type": "code",
   "execution_count": 3,
   "metadata": {},
   "outputs": [],
   "source": [
    "#crear densidad gaussiana 3d protones y electrones \n",
    "\n",
    "\n",
    "\n",
    "S=[300, 300, 300];\n",
    "\n",
    "\n",
    "a=5.66/0.52917721; # Lattice constant (converted from angstroms to bohrs)\n",
    "\n",
    "R=a*np.diag(np.ones(3)); # Cubic lattice\n",
    "\n",
    "# Code fragment to create columns of m1, m2, m3 indices\n",
    "ms=np.arange(0,np.prod(S)).T; # Count from zero to S1*S2*s3-1 in a column vector\n",
    "m1=ms%S[0];\n",
    "m2=floor(ms/S[0])%S[1];\n",
    "m3=floor(ms/(S[0]*S[1]))%S[2];\n",
    "\n",
    "\n",
    "\n",
    "# Wrap indices to +/- Fourier convention\n",
    "n1=m1-(m1>S[0]/2)*S[0];\n",
    "n2=m2-(m2>S[1]/2)*S[1];\n",
    "n3=m3-(m3>S[2]/2)*S[2];\n",
    "\n",
    "# Gather indices into columns of a matrices\n",
    "N=[n1, n2, n3];\n",
    "M=[m1, m2, m3];\n",
    "\n",
    "\n",
    "## Compute Cartesian coords of grid points\n",
    "r=np.dot((R.T),np.dot(inv(diag(S)),M)); # Scale by 1/S(), mult by real-space vectors (L's)\n",
    "\n",
    "# Compute reciprocal-space vectors and lengths\n",
    "G=2*pi*np.dot(inv(R.T),N);\n",
    "G2=sum( G**2, axis=1);\n",
    "\n",
    "dr=r-np.dot(np.mat(diag(R)).T,np.ones([prod(S),1]).T)/2;\n",
    "dr=np.sqrt(np.sum(np.array(dr)**2,0))\n",
    "\n",
    "#print(shape(dr),shape(M))\n",
    "\n",
    "sig=1\n",
    "Sig=1/4\n",
    "psi1=(1/(2*pi*sig**2)**(3/4))*exp(-dr**2/(4*sig**2))\n",
    "psi2=(1/(2*pi*Sig**2)**(3/4))*exp(-dr**2/(4*Sig**2))"
   ]
  },
  {
   "cell_type": "code",
   "execution_count": 4,
   "metadata": {},
   "outputs": [
    {
     "name": "stdout",
     "output_type": "stream",
     "text": [
      "0.9999997322602728 normalization electron gaussian\n",
      "0.9999999999999998 normalization proton gaussian\n"
     ]
    },
    {
     "data": {
      "image/png": "[encoded data removed]",
      "text/plain": [
       "<Figure size 432x288 with 1 Axes>"
      ]
     },
     "metadata": {
      "needs_background": "light"
     },
     "output_type": "display_data"
    }
   ],
   "source": [
    "#probar densidad gaussiana\n",
    "plt.imshow(reshape(psi2,S)[30,:,:])\n",
    "print(np.sum(psi1*np.conj(psi1))*np.linalg.det(R)/np.prod(S),\"normalization electron gaussian\")\n",
    "print(np.sum(psi2*np.conj(psi2))*np.linalg.det(R)/np.prod(S),\"normalization proton gaussian\")"
   ]
  },
  {
   "cell_type": "code",
   "execution_count": 5,
   "metadata": {},
   "outputs": [
    {
     "name": "stdout",
     "output_type": "stream",
     "text": [
      "-0.2316501949474182 -1.4039352424449631\n"
     ]
    }
   ],
   "source": [
    "# crear transformada de fourier inversa 3d en array compacto (necesita inicializar lattice )\n",
    "Psit1=np.fft.fftn(reshape(psi1,S), axes=(0, 1, 2))\n",
    "np.sum(psi1*np.conj(psi1))*np.linalg.det(R)/np.prod(S)\n",
    "# Operador de overlap\n",
    "O=np.linalg.det(R)\n",
    "ndens=psi1*psi1\n",
    "Ndens=psi2*psi2\n",
    "#poner todo junto\n",
    "E_ex_e=real( np.trapz((excVWN(ndens))*ndens )*np.linalg.det(R)/np.prod(S));\n",
    "E_ex_p=real( np.trapz((excVWNp(Ndens))*Ndens )*np.linalg.det(R)/np.prod(S));\n",
    "print(E_ex_e, E_ex_p)"
   ]
  },
  {
   "cell_type": "code",
   "execution_count": 6,
   "metadata": {},
   "outputs": [
    {
     "name": "stdout",
     "output_type": "stream",
     "text": [
      "-0.810151378688813\n",
      "-0.39620590148651225\n",
      "-1.3573257648989483\n",
      "-0.6372060569165849\n"
     ]
    }
   ],
   "source": [
    "#checking that my implementation of Exc works\n",
    "print(excVWN(1)) #should be -0.81015\n",
    "print(excVWN(.1)) #should be -0.39621\n",
    "\n",
    "\n",
    "print(excVWNp(1)) #should be -1.3573 (for Mp=1800)\n",
    "print(excVWNp(.1)) #should be -0.63721 (for Mp=1800)"
   ]
  },
  {
   "cell_type": "code",
   "execution_count": 7,
   "metadata": {},
   "outputs": [
    {
     "data": {
      "text/plain": [
       "10.695849883633501"
      ]
     },
     "execution_count": 7,
     "metadata": {},
     "output_type": "execute_result"
    }
   ],
   "source": [
    "a"
   ]
  },
  {
   "cell_type": "code",
   "execution_count": 8,
   "metadata": {},
   "outputs": [
    {
     "name": "stdout",
     "output_type": "stream",
     "text": [
      "-0.22945914990681968 nan agreement to 1E-9\n",
      "0.9682158986536409\n"
     ]
    },
    {
     "name": "stderr",
     "output_type": "stream",
     "text": [
      "/Users/juanmendezvalderrama/anaconda3/lib/python3.7/site-packages/ipykernel_launcher.py:18: RuntimeWarning: divide by zero encountered in log10\n",
      "/Users/juanmendezvalderrama/anaconda3/lib/python3.7/site-packages/ipykernel_launcher.py:31: RuntimeWarning: divide by zero encountered in true_divide\n",
      "/Users/juanmendezvalderrama/anaconda3/lib/python3.7/site-packages/ipykernel_launcher.py:36: RuntimeWarning: invalid value encountered in true_divide\n"
     ]
    },
    {
     "data": {
      "image/png": "[encoded data removed]",
      "text/plain": [
       "<Figure size 432x288 with 1 Axes>"
      ]
     },
     "metadata": {
      "needs_background": "light"
     },
     "output_type": "display_data"
    }
   ],
   "source": [
    "##from mpmath import *\n",
    "#mp.dps = 15; mp.pretty = True\n",
    "\n",
    "a,b,c=[2.35,2.4,3.2]   #for epc17-1\n",
    "#a,b,c=[2.35,2.4,6.6]   #for epc17-2\n",
    "sig=1\n",
    "Sig=1/40\n",
    "\n",
    "N=100;\n",
    "#U=10.695849883633501 /2\n",
    "U=3\n",
    "rr=np.arange(0,U,U/N)\n",
    "ndens2=((1/(2*pi*sig**2)**(3/4))*exp(-rr**2/(4*sig**2)))**2\n",
    "Ndens2=((1/(2*pi*Sig**2)**(3/4))*exp(-rr**2/(4*Sig**2)))**2\n",
    "difr=U/N\n",
    "\n",
    "plot(rr,log10(ndens2))\n",
    "plot(rr,log10(Ndens2))\n",
    "#plot(rr[1:],(1/(2*pi*sig**2)**(3/2))*rr[1:]/rr[1:])\n",
    "\n",
    "\n",
    "Exc_e= difr*np.trapz((excVWN(ndens2))*ndens2*rr*rr*4*np.pi)\n",
    "Exc_p= difr*np.trapz((excVWNp(Ndens2))*Ndens2*rr*rr*4*np.pi)\n",
    "print(Exc_e,Exc_p, \"agreement to 1E-9\")\n",
    "Norm1= difr*np.trapz(ndens2*rr*rr*4*np.pi)\n",
    "Norm2= difr*np.trapz(Ndens2*rr*rr*4*np.pi)\n",
    "print(Norm1)"
   ]
  },
  {
   "cell_type": "code",
   "execution_count": 40,
   "metadata": {},
   "outputs": [],
   "source": [
    "def EPC_17(a,b,c,sig,Sig):\n",
    "    \n",
    "    lamb=(1/(2*np.pi*(Sig)*(sig)))**3\n",
    "    alphe=1/(1/Sig**2+1/sig**2)\n",
    "    \n",
    "    N=100000;\n",
    "    U=10000\n",
    "    u=np.arange(0,U,U/N)\n",
    "\n",
    "    \n",
    "    \n",
    "    out= -4*pi*(U/N)*np.trapz((u**2)*lamb*np.exp(-u**2 /(2*alphe) )/ (a-b*np.sqrt(lamb)*np.exp(-u**2 /(4*alphe) )+c*lamb*np.exp(-u**2 /(2*alphe) )))\n",
    "    return out\n",
    "\n",
    "def Energy(a,b,c,sig,Sig):\n",
    "    M=1836.152\n",
    "    Te=(3/8)*(1/sig**2)\n",
    "    Tp=(3/8)*(1/Sig**2) /M\n",
    "    Vcoul=np.sqrt(2/np.pi)/np.sqrt(sig**2 +Sig**2)\n",
    "    #abc=np.sqrt(4*a*c-b**2)\n",
    "    #EPC17pre= (-4*(np.pi**(3/2))*(sig**3)*(Sig**3))/(c*abc*((sig**2+Sig**2)**(3/2)))  \n",
    "    #EPC17_1=(-1j*b+abc)*polylog( 3/2,   (b-1j*abc)/(4*np.sqrt(2)*a* ((np.pi*sig*Sig)**(3/2))  ) )\n",
    "    #EPC17_2=(1j*b+abc)*polylog(  3/2,  (b+1j*abc)/(4*np.sqrt(2)*a* ((np.pi*sig*Sig)**(3/2))  ) )\n",
    "    #SHO=0.5*(0.2*10)*Sig**2\n",
    "    #EPC17=EPC17pre*(EPC17_1+EPC17_2)\n",
    "    EPC17=EPC_17(a,b,c,sig,Sig)\n",
    "    Vautointele=np.sqrt(1/np.pi)/sig\n",
    "    Vautointprot=np.sqrt(1/np.pi)/Sig\n",
    "    \n",
    "    N=100000;\n",
    "    U=10.695849883633501 /2\n",
    "    #U=5\n",
    "\n",
    "    rr=np.arange(0,U,U/N)\n",
    "    ndens2=((1/(2*pi*sig**2)**(3/4))*exp(-rr**2/(4*sig**2)))**2\n",
    "    Ndens2=((1/(2*pi*Sig**2)**(3/4))*exp(-rr**2/(4*Sig**2)))**2\n",
    "    difr=U/N\n",
    "    ndens2[np.where(ndens2<1E-17)]=1E-17\n",
    "    Ndens2[np.where(Ndens2<1E-17)]=1E-17\n",
    "\n",
    "    Exc_e= difr*np.trapz((excVWN(ndens2))*ndens2*rr*rr*4*np.pi)\n",
    "    Exc_p= difr*np.trapz((excVWNp(Ndens2))*Ndens2*rr*rr*4*np.pi)\n",
    "    \n",
    "    print(0.5*1800*((2.008185134498076e-02)**2)*3*Sig**2)\n",
    "    return Te+Tp -Vcoul+0*0.5*1800*((2.008185134498076e-02)**2)*3*Sig**2 + real(EPC17)#+Exc_e+Exc_p+0.5*Vautointele+0.5*Vautointprot #+real(EPC17)\n",
    "    #return Exc_p"
   ]
  },
  {
   "cell_type": "code",
   "execution_count": 41,
   "metadata": {},
   "outputs": [
    {
     "data": {
      "text/plain": [
       "'\\n\\ndef gradEnergy(a,b,c,sig,Sig,h):\\n    Grad1=(-Energy(a,b,c,sig+2*h,Sig)+8*Energy(a,b,c,sig+h,Sig)-8*Energy(a,b,c,sig-h,Sig)+Energy(a,b,c,sig-2*h,Sig))/(12*h)\\n    Grad2=(-Energy(a,b,c,sig,Sig+2*h)+8*Energy(a,b,c,sig,Sig+h)-8*Energy(a,b,c,sig,Sig-h)+Energy(a,b,c,sig,Sig-2*h))/(12*h)\\n    return np.array([Grad1,Grad2])\\n'"
      ]
     },
     "execution_count": 41,
     "metadata": {},
     "output_type": "execute_result"
    }
   ],
   "source": [
    "\n",
    "def gradEnergy(a,b,c,sig,Sig,h):\n",
    "    Grad1=(Energy(a,b,c,sig+h,Sig)-Energy(a,b,c,sig-h,Sig))/(2*h)\n",
    "    Grad2=(Energy(a,b,c,sig,Sig+h)-Energy(a,b,c,sig,Sig-h))/(2*h)\n",
    "    return np.array([real(Grad1),real(Grad2)])\n",
    "\n",
    "'''\n",
    "\n",
    "def gradEnergy(a,b,c,sig,Sig,h):\n",
    "    Grad1=(-Energy(a,b,c,sig+2*h,Sig)+8*Energy(a,b,c,sig+h,Sig)-8*Energy(a,b,c,sig-h,Sig)+Energy(a,b,c,sig-2*h,Sig))/(12*h)\n",
    "    Grad2=(-Energy(a,b,c,sig,Sig+2*h)+8*Energy(a,b,c,sig,Sig+h)-8*Energy(a,b,c,sig,Sig-h)+Energy(a,b,c,sig,Sig-2*h))/(12*h)\n",
    "    return np.array([Grad1,Grad2])\n",
    "'''"
   ]
  },
  {
   "cell_type": "code",
   "execution_count": 43,
   "metadata": {},
   "outputs": [
    {
     "name": "stdout",
     "output_type": "stream",
     "text": [
      "0.030246056508142917\n"
     ]
    },
    {
     "data": {
      "text/plain": [
       "-0.4337921055242128"
      ]
     },
     "execution_count": 43,
     "metadata": {},
     "output_type": "execute_result"
    }
   ],
   "source": [
    "sig=1\n",
    "Sig=1/6\n",
    "Energy(a,b,c,sig,Sig) #for Sig=1/2 and sig=1 should be -0.43294 For Sig=1/4 sig=1 should be -0.62090, -0.74004\n",
    "#3.024607452304744e-02"
   ]
  },
  {
   "cell_type": "markdown",
   "metadata": {},
   "source": [
    "For $\\sigma$=1 and $\\Sigma$=1/6  \n",
    "\n",
    "\n",
    "\n",
    "For python radial integration\n",
    "\n",
    "T=0.3823523324866351\n",
    "EHart= 1.187635059721722\n",
    "EPC=-0.029115955315422756\n",
    "Exce= -0.23165018668984175\n",
    "Excp=-2.088209566937999\n",
    "Tot=-0.7789883167349063\n",
    "\n",
    "For octave\n",
    "\n",
    "S=[120,120,120]\n",
    "\n",
    "\n",
    "T=0.38250\n",
    "EHart=1.1876\n",
    "EPC=-0.029118\n",
    "Exce=-0.23165\n",
    "Excp=-2.0882\n",
    "Tot=-0.77886\n",
    "\n",
    "S=[80,80,80]\n",
    "\n",
    "For octave\n",
    "T=0.38242\n",
    "EHart= 1.1543\n",
    "EPC=-0.029479\n",
    "Exce=-0.23165\n",
    "Excp=-2.0524\n",
    "Tot=-0.77674"
   ]
  },
  {
   "cell_type": "code",
   "execution_count": 60,
   "metadata": {},
   "outputs": [
    {
     "name": "stdout",
     "output_type": "stream",
     "text": [
      "[1.         0.16666667] -0.40467615020879005\n",
      "[0.99842426 0.16272684] -0.4048393280664039 0.00016317785761382764 [0.01575744 0.03939825]\n"
     ]
    }
   ],
   "source": [
    "\n",
    "a,b,c=[2.35,2.4,3.2]   #for epc17-1\n",
    "#a,b,c=[2.35,2.4,6.6]   #for epc17-2\n",
    "presSig=np.array([1,1/6])\n",
    "\n",
    "E0= Energy(a,b,c,presSig[0],presSig[1])\n",
    "print(presSig,E0)\n",
    "\n",
    "h=1E-5\n",
    "grad1=gradEnergy(a,b,c,presSig[0],presSig[1],h)\n",
    "\n",
    "step=0.1\n",
    "postsSig=presSig-step*grad1\n",
    "\n",
    "\n",
    "E1= Energy(a,b,c, real(postsSig[0]), real(postsSig[1]))\n",
    "delta=abs(E1-E0)\n",
    "E0=real(E1)\n",
    "\n",
    "print(postsSig,E1,delta, grad1)\n"
   ]
  },
  {
   "cell_type": "code",
   "execution_count": 61,
   "metadata": {},
   "outputs": [
    {
     "name": "stdout",
     "output_type": "stream",
     "text": [
      "0.0034548965157636924 -0.4049477280249553 0.9968259579033458 0.15966387677842256\n",
      "0.002831578574100728 -0.4050209907418265 0.9952411438719491 0.1573173470626094\n",
      "0.0023562606497203415 -0.4050721940476693 0.9936962813110175 0.15553820009924393\n",
      "0.0020023222460750665 -0.40510955992772424 0.992209851129854 0.15419662651063484\n",
      "0.00173994355201102 -0.40513804966477973 0.990793906716191 0.1531854366265867\n",
      "0.0015419146865231815 -0.40516059530683224 0.9894555124843598 0.1524197984739867\n",
      "0.001386953049907011 -0.40517893477438416 0.9881979925861475 0.15183474935788924\n",
      "0.0012602569850257385 -0.40519412821962847 0.9870219600539567 0.15138176464342848\n",
      "0.001152364108600158 -0.40520685693149394 0.9859261299262059 0.151025254657729\n",
      "0.001057541341792264 -0.405217588711113 0.9849079402861052 0.15073945132256408\n",
      "0.0009724013318678758 -0.4052266669142914 0.9839640137647145 0.15050585536276642\n",
      "0.0008949362540507177 -0.40523435796003565 0.983090492693405 0.1503112484852093\n",
      "0.0008239161252731557 -0.4052408769742586 0.9822832775434045 0.15014619854399505\n",
      "0.0007585392931020099 -0.40524640214199914 0.9815381931558833 0.15000396242111527\n",
      "0.0006982382391316046 -0.4052510832573086 0.9808511020657487 0.14987969467613219\n",
      "0.0006425748568146891 -0.4052550472542445 0.9802179796146162 0.14976988389122262\n",
      "0.0005911851111760999 -0.4052584021106434 0.9796349618211289 0.14967195489575427\n",
      "0.0005437502197544311 -0.40526123981829504 0.9790983740152739 0.14958398997041047\n",
      "0.0004999817497861205 -0.40526363876868704 0.9786047460578753 0.1495045343866314\n",
      "0.00045961391444004744 -0.40526566573576944 0.9781508182974954 0.14943246123834855\n",
      "0.00042239951123242115 -0.4052673775556257 0.9777335412418089 0.149366877658948\n",
      "0.00038810768009667717 -0.40526882256321994 0.9773500710414931 0.1493070597952301\n",
      "0.0003565225579377677 -0.4052700418265464 0.97699776225768 0.14925240766657413\n",
      "0.0003274423365909351 -0.40527107020796516 0.976674158964074 0.14920241374534907\n",
      "0.00030067852167542673 -0.40527193727664285 0.9763769848953876 0.14915664097727324\n",
      "0.00027605526608638094 -0.40527266809210327 0.9761041331486355 0.14911470728880719\n",
      "0.00025340873695091733 -0.405273283876143 0.9758536557781241 0.14907627455764297\n",
      "0.00023258649242113486 -0.40527380258813006 0.97562375352117 0.14904104064352333\n",
      "0.00021344686442212896 -0.4052742394168342 0.9754127658085912 0.14900873353792146\n",
      "0.00019585835574471885 -0.4052746072003018 0.9752191611546159 0.14897910697088848\n",
      "0.00017969903823626465 -0.4052749167838 0.975041527994768 0.1489519370451348\n",
      "0.00016485596870882712 -0.4052751773245877 0.9748785660047545 0.14892701957676838\n",
      "0.00015122462548072205 -0.4052753965511149 0.9747290779097963 0.14890416795062147\n",
      "0.00013870835779967235 -0.40527558098322136 0.9745919617935574 0.14888321134805707\n",
      "0.0001272178636214518 -0.4052757361190249 0.9744662038950183 0.14886399323734315\n",
      "0.00011667068935497929 -0.4052758665933964 0.9743508718788587 0.14884637007635707\n",
      "0.00010699075026846842 -0.40527597631222506 0.9742451085668615 0.14883021017294165\n",
      "9.810788495595929e-05 -0.4052760685660966 0.9741481261003595 0.14881539267376956\n",
      "8.995742105495541e-05 -0.40527614612646085 0.9740592005270656 0.14880180665090728\n",
      "8.247978773545908e-05 -0.4052762113269538 0.9739776667656566 0.1487893502816379\n",
      "7.562012131010127e-05 -0.4052762661321011 0.973902913958379 0.14877793009989318\n",
      "6.932792624218902e-05 -0.4052763121953536 0.9738343811564456 0.14876746031402158\n",
      "6.355674390928645e-05 -0.405276350908077 0.9737715533321136 0.14875786217951217\n",
      "5.8263839159428944e-05 -0.40527638344088474 0.973713957699406 0.1487490634269523\n",
      "5.340991682739873e-05 -0.40527641077850207 0.9736611603146086 0.14874099773578178\n",
      "4.89588575371413e-05 -0.40527643374916056 0.9736127629376692 0.14873360424968066\n",
      "4.4877465637563207e-05 -0.40527645304937265 0.9735684001425651 0.14872682713136967\n",
      "4.113524410684629e-05 -0.4052764692648072 0.9735277366499919 0.14872061515266047\n",
      "3.770417678100564e-05 -0.405276482887871 0.9734904648748812 0.14871492132031042\n",
      "3.455853828252733e-05 -0.4052764943325178 0.9734563026623779 0.14870970252685747\n",
      "3.167470395671663e-05 -0.4052765039467131 0.9734249912111683 0.1487049192336515\n",
      "2.9030984219506315e-05 -0.40527651202292714 0.9733962931605658 0.14870053517886564\n",
      "2.6607474331078726e-05 -0.4052765188069672 0.9733699908260887 0.14869651710826717\n",
      "2.438590296142527e-05 -0.4052765245054052 0.9733458845854739 0.14869283452402962\n",
      "2.2349503372752466e-05 -0.40527652929182956 0.9733237913904227 0.14868945946352077\n",
      "2.0482892196381145e-05 -0.4052765333121025 0.9733035433999162 0.14868636628502965\n",
      "1.877195502730529e-05 -0.4052765366887814 0.9732849867251083 0.14868353148069394\n",
      "1.7203745588498657e-05 -0.4052765395248367 0.9732679802752489 0.14868093349581116\n",
      "1.5766384891622227e-05 -0.4052765419067784 0.973252394702139 0.14867855257090948\n",
      "1.444898435558398e-05 -0.405276543907284 0.9732381114214697 0.14867637058964714\n",
      "1.324155032509955e-05 -0.4052765455874077 0.9732250217276963 0.14867437094669592\n",
      "1.2134923754471182e-05 -0.40527654699843785 0.9732130259694207 0.14867253841895525\n",
      "1.112070088739395e-05 -0.40527654818345665 0.973202032802766 0.14867085905147684\n",
      "1.0191180082139755e-05 -0.4052765491786527 0.973191958496932 0.14866932005393632\n",
      "9.339297486460495e-06 -0.40527655001442353 0.9731827263041439 0.1486679097015459\n",
      "8.558578085077358e-06 -0.40527655071630053 0.9731742658773403 0.14866661724762423\n",
      "7.843083553697562e-06 -0.4052765513057285 0.973166512739764 0.14866543284171754\n",
      "7.187370501136571e-06 -0.4052765518007183 0.9731594077953534 0.14866434745715754\n",
      "6.58645165702467e-06 -0.4052765522163978 0.9731528968782701 0.148663352819452\n",
      "6.035750230796895e-06 -0.40527655256547174 0.9731469303471121 0.1486624413443899\n",
      "5.531074254118155e-06 -0.40527655285861053 0.9731414627041071 0.14866160608253023\n",
      "5.068580489430335e-06 -0.4052765531047759 0.9731364522509436 0.14866084066285815\n",
      "4.644744767359651e-06 -0.40527655331149354 0.9731318607729125 0.14866013924754343\n",
      "4.256340162643975e-06 -0.40527655348508407 0.9731276532452529 0.1486594964858662\n",
      "3.900403760837254e-06 -0.4052765536308555 0.9731237975719722 0.14865890747563673\n",
      "3.5742253213425163e-06 -0.40527655375326543 0.9731202643366013 0.14865836772156196\n",
      "3.2753171956742387e-06 -0.40527655385605754 0.9731170265812596 0.14865787310749004\n",
      "3.001400597251036e-06 -0.40527655394237555 0.9731140596012646 0.14865741985783001\n",
      "2.7503876149427275e-06 -0.40527655401485924 0.9731113407555605 0.14865700451451472\n",
      "2.520362189810136e-06 -0.4052765540757259 0.9731088492974096 0.1486566239073023\n",
      "2.3095719145253136e-06 -0.40527655412683705 0.9731065662120222 0.14865627513295956\n",
      "2.116408693824492e-06 -0.40527655416975633 0.9731044740747254 0.14865595552806146\n",
      "1.9393970647696653e-06 -0.4052765542057965 0.9731025569191245 0.14865566265372557\n",
      "1.7771894218396718e-06 -0.4052765542360602 0.9731008001108146 0.14865539427562804\n",
      "1.6285475082175597e-06 -0.405276554261473 0.9730991902396893 0.1486551483448523\n",
      "1.4923337464349011e-06 -0.40527655428281273 0.9730977150202982 0.1486549229834561\n",
      "1.3675137725283072e-06 -0.40527655430073195 0.9730963631894287 0.1486547164714264\n",
      "1.2531330495584688e-06 -0.40527655431577897 0.9730951244275579 0.1486545272322465\n",
      "1.1483178622443521e-06 -0.40527655432841414 0.9730939892789161 0.14865435382096118\n",
      "1.0522693684493208e-06 -0.40527655433902415 0.9730929490771025 0.14865419491529477\n",
      "9.64253546392774e-07 -0.40527655434793336 0.9730919958818021 0.1486540493006633\n",
      "Minimum at [0.973092   0.14865405] With energy -0.40527655434793336  within 91 iterations\n"
     ]
    }
   ],
   "source": [
    "\n",
    "gamma = 1E-1 # Step size multiplier\n",
    "precision = 1E-6  # Desired precision of result\n",
    "max_iters = 1000  # Maximum number of iterations\n",
    "\n",
    "# Derivative function\n",
    "\n",
    "j=0\n",
    "for i in range(max_iters):\n",
    "    presSig = postsSig\n",
    "    postsSig = presSig - gamma * gradEnergy(a,b,c,presSig[0],presSig[1],h)\n",
    "    step = np.sqrt(np.sum((postsSig - presSig)**2))\n",
    "    j=j+1\n",
    "    print(step,Energy(a,b,c, real(postsSig[0]), real(postsSig[1])),real(postsSig[0]), real(postsSig[1]))\n",
    "    if abs(step) <= precision:\n",
    "        break\n",
    "    \n",
    "print(\"Minimum at\", postsSig, \"With energy\",Energy(a, b, c, real(postsSig[0]), real(postsSig[1])),\" within\" , j, \"iterations\")\n",
    "    "
   ]
  },
  {
   "cell_type": "code",
   "execution_count": 62,
   "metadata": {},
   "outputs": [],
   "source": [
    "#Minimum at [0.99141028 0.16841099] With energy -0.43455947661247274  within 1000 iterations\n",
    "#Minimum at [0.89742813 0.17266401] With energy -0.4389345347508731  within 77 iterations"
   ]
  },
  {
   "cell_type": "code",
   "execution_count": null,
   "metadata": {},
   "outputs": [],
   "source": []
  },
  {
   "cell_type": "code",
   "execution_count": null,
   "metadata": {},
   "outputs": [],
   "source": []
  },
  {
   "cell_type": "code",
   "execution_count": 103,
   "metadata": {},
   "outputs": [
    {
     "name": "stdout",
     "output_type": "stream",
     "text": [
      "Populating the interactive namespace from numpy and matplotlib\n"
     ]
    },
    {
     "ename": "NameError",
     "evalue": "name 'Energy' is not defined",
     "output_type": "error",
     "traceback": [
      "\u001b[0;31m---------------------------------------------------------------------------\u001b[0m",
      "\u001b[0;31mNameError\u001b[0m                                 Traceback (most recent call last)",
      "\u001b[0;32m<ipython-input-103-4d043fe9a2b5>\u001b[0m in \u001b[0;36m<module>\u001b[0;34m()\u001b[0m\n\u001b[1;32m     12\u001b[0m \u001b[0;34m\u001b[0m\u001b[0m\n\u001b[1;32m     13\u001b[0m \u001b[0mout\u001b[0m\u001b[0;34m=\u001b[0m\u001b[0;34m-\u001b[0m\u001b[0;36m4\u001b[0m\u001b[0;34m*\u001b[0m\u001b[0mnp\u001b[0m\u001b[0;34m.\u001b[0m\u001b[0mpi\u001b[0m\u001b[0;34m*\u001b[0m\u001b[0mpre\u001b[0m\u001b[0;34m*\u001b[0m\u001b[0mal\u001b[0m\u001b[0;34m**\u001b[0m\u001b[0;34m(\u001b[0m\u001b[0;34m-\u001b[0m\u001b[0;36m1.5\u001b[0m\u001b[0;34m)\u001b[0m\u001b[0;34m*\u001b[0m\u001b[0msum\u001b[0m\u001b[0;34m(\u001b[0m \u001b[0;34m(\u001b[0m\u001b[0mu\u001b[0m\u001b[0;34m**\u001b[0m\u001b[0;36m2\u001b[0m \u001b[0;34m*\u001b[0m\u001b[0mexp\u001b[0m\u001b[0;34m(\u001b[0m\u001b[0;34m-\u001b[0m\u001b[0mu\u001b[0m\u001b[0;34m**\u001b[0m\u001b[0;36m2\u001b[0m\u001b[0;34m)\u001b[0m\u001b[0;34m)\u001b[0m\u001b[0;34m/\u001b[0m\u001b[0;34m(\u001b[0m\u001b[0ma\u001b[0m\u001b[0;34m-\u001b[0m\u001b[0mb\u001b[0m\u001b[0;34m*\u001b[0m\u001b[0msqrt\u001b[0m\u001b[0;34m(\u001b[0m\u001b[0mpre\u001b[0m\u001b[0;34m*\u001b[0m\u001b[0mexp\u001b[0m\u001b[0;34m(\u001b[0m\u001b[0;34m-\u001b[0m\u001b[0mu\u001b[0m\u001b[0;34m**\u001b[0m\u001b[0;36m2\u001b[0m\u001b[0;34m)\u001b[0m\u001b[0;34m)\u001b[0m\u001b[0;34m+\u001b[0m\u001b[0mc\u001b[0m\u001b[0;34m*\u001b[0m\u001b[0mpre\u001b[0m\u001b[0;34m*\u001b[0m\u001b[0mexp\u001b[0m\u001b[0;34m(\u001b[0m\u001b[0;34m-\u001b[0m\u001b[0mu\u001b[0m\u001b[0;34m**\u001b[0m\u001b[0;36m2\u001b[0m\u001b[0;34m)\u001b[0m\u001b[0;34m)\u001b[0m \u001b[0;34m)\u001b[0m\u001b[0;34m*\u001b[0m\u001b[0mU\u001b[0m\u001b[0;34m/\u001b[0m\u001b[0mN\u001b[0m\u001b[0;34m;\u001b[0m\u001b[0;34m\u001b[0m\u001b[0m\n\u001b[0;32m---> 14\u001b[0;31m \u001b[0mprint\u001b[0m\u001b[0;34m(\u001b[0m\u001b[0mout\u001b[0m\u001b[0;34m,\u001b[0m\u001b[0mEnergy\u001b[0m\u001b[0;34m(\u001b[0m\u001b[0ma\u001b[0m\u001b[0;34m,\u001b[0m\u001b[0mb\u001b[0m\u001b[0;34m,\u001b[0m\u001b[0mc\u001b[0m\u001b[0;34m,\u001b[0m\u001b[0msig\u001b[0m\u001b[0;34m,\u001b[0m\u001b[0mSig\u001b[0m\u001b[0;34m)\u001b[0m\u001b[0;34m)\u001b[0m\u001b[0;34m\u001b[0m\u001b[0m\n\u001b[0m",
      "\u001b[0;31mNameError\u001b[0m: name 'Energy' is not defined"
     ]
    }
   ],
   "source": [
    "%pylab inline\n",
    "a=2.35; b=2.4; c=3.2;\n",
    "sig=1\n",
    "Sig=1/2 *1E-5\n",
    "pre=1/(2*pi*sig*Sig)**3\n",
    "al=0.5*(1/sig**2+1/Sig**2)\n",
    "\n",
    "N=10000\n",
    "U=1000\n",
    "u=np.arange(0,U,U/N)\n",
    "\n",
    "\n",
    "out=-4*np.pi*pre*al**(-1.5)*sum( (u**2 *exp(-u**2))/(a-b*sqrt(pre*exp(-u**2))+c*pre*exp(-u**2)) )*U/N;\n",
    "print(out,Energy(a,b,c,sig,Sig))"
   ]
  },
  {
   "cell_type": "code",
   "execution_count": 16,
   "metadata": {},
   "outputs": [
    {
     "name": "stdout",
     "output_type": "stream",
     "text": [
      "Populating the interactive namespace from numpy and matplotlib\n"
     ]
    },
    {
     "data": {
      "text/plain": [
       "[<matplotlib.lines.Line2D at 0x14b1216d8>]"
      ]
     },
     "execution_count": 16,
     "metadata": {},
     "output_type": "execute_result"
    },
    {
     "data": {
      "image/png": "[encoded data removed]",
      "text/plain": [
       "<Figure size 432x288 with 1 Axes>"
      ]
     },
     "metadata": {
      "needs_background": "light"
     },
     "output_type": "display_data"
    }
   ],
   "source": [
    "%pylab inline\n",
    "cx=np.linspace(-10,10,1000)\n",
    "plot(cx,np.exp(-0.5*cx**2 /(2*(1/6)**2) ))\n",
    "plot(cx,np.exp(-0.5*cx**2 /(2*(1)**2) ))"
   ]
  },
  {
   "cell_type": "code",
   "execution_count": null,
   "metadata": {},
   "outputs": [],
   "source": []
  },
  {
   "cell_type": "code",
   "execution_count": null,
   "metadata": {},
   "outputs": [],
   "source": []
  },
  {
   "cell_type": "code",
   "execution_count": 8,
   "metadata": {},
   "outputs": [
    {
     "name": "stdout",
     "output_type": "stream",
     "text": [
      "Minimum at [0.960089147599263 0.185027812603674] With energy -0.427957172507869  within 10000 iterations\n"
     ]
    }
   ],
   "source": [
    "#do not erase, converged calculation for the epc functional \n",
    "\n",
    "print(\"Minimum at\", postsSig, \"With energy\",Energy(a, b, c, real(postsSig[0]), real(postsSig[1])),\" within\" , j, \"iterations\")\n",
    "    "
   ]
  },
  {
   "cell_type": "code",
   "execution_count": null,
   "metadata": {},
   "outputs": [],
   "source": [
    " ssig=sum(nele.*dr.*dr)*det(gbl_R)/prod(gbl_S)\n",
    "ssig =  6.043304402648485\n",
    "octave:38> sSig=sum(Npro.*dr.*dr)*det(gbl_R)/prod(gbl_S)\n",
    "sSig =    6.303874680199510e-01\n",
    "\n",
    "\n",
    "sSig=sum(Npro.*dr.*dr)*det(gbl_R)/prod(gbl_S)\n",
    "sSig =  1.261719557959719\n",
    "octave:49> sSig=sum(nele.*dr.*dr)*det(gbl_R)/prod(gbl_S)\n",
    "sSig =  6.116323678266423"
   ]
  }
 ],
 "metadata": {
  "kernelspec": {
   "display_name": "Python 3",
   "language": "python",
   "name": "python3"
  },
  "language_info": {
   "codemirror_mode": {
    "name": "ipython",
    "version": 3
   },
   "file_extension": ".py",
   "mimetype": "text/x-python",
   "name": "python",
   "nbconvert_exporter": "python",
   "pygments_lexer": "ipython3",
   "version": "3.7.0"
  }
 },
 "nbformat": 4,
 "nbformat_minor": 2
}
