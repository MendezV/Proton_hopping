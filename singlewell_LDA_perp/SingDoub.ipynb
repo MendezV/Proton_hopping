{
 "cells": [
  {
   "cell_type": "code",
   "execution_count": 1,
   "metadata": {},
   "outputs": [
    {
     "name": "stdout",
     "output_type": "stream",
     "text": [
      "Populating the interactive namespace from numpy and matplotlib\n"
     ]
    }
   ],
   "source": [
    "%pylab inline\n"
   ]
  },
  {
   "cell_type": "code",
   "execution_count": 2,
   "metadata": {},
   "outputs": [],
   "source": [
    "sep_mult=np.arange(4,9,1)\n",
    "separations=sep_mult*0.719643*2\n",
    "positions=[[j*0.71964 -separations[i]/2 for j in range(1,sep_mult[i]+1)] for i in range(size(sep_mult))]"
   ]
  },
  {
   "cell_type": "code",
   "execution_count": null,
   "metadata": {},
   "outputs": [],
   "source": []
  },
  {
   "cell_type": "code",
   "execution_count": 3,
   "metadata": {},
   "outputs": [],
   "source": [
    "sep_mult=np.arange(0,5,1)"
   ]
  },
  {
   "cell_type": "code",
   "execution_count": 31,
   "metadata": {},
   "outputs": [],
   "source": [
    "separations2=[0.0000,0.0360,0.0720,0.1079,0.1439, 0.1799, 0.2159,0.2879]\n",
    "\n",
    "positions2=[[0.0000,\n",
    "0.0900,\n",
    "0.1799,\n",
    "0.2699,\n",
    "0.3598,\n",
    "0.4498,\n",
    "0.5397,\n",
    "0.6297\n",
    "],\n",
    "[0.0000,\n",
    "0.0900,\n",
    "0.1799,\n",
    "0.2699,\n",
    "0.3598,\n",
    "0.4498,\n",
    "0.5397,\n",
    "0.6297\n",
    "],\n",
    "[0.0000,\n",
    "0.0900,\n",
    "0.1799,\n",
    "0.2699,\n",
    "0.3598,\n",
    "0.4498,\n",
    "0.5397,\n",
    "0.6297\n",
    "],\n",
    "[0.0000,\n",
    "0.0900,\n",
    "0.1799,\n",
    "0.2699,\n",
    "0.3598,\n",
    "0.4498,\n",
    "0.5397,\n",
    "0.6297\n",
    "],\n",
    "[0.0000,\n",
    "0.0900,\n",
    "0.1799,\n",
    "0.2699,\n",
    "0.3598,\n",
    "0.4498,\n",
    "0.5397,\n",
    "0.6297\n",
    "],\n",
    "[0.0000,\n",
    "0.0900,\n",
    "0.1799,\n",
    "0.2699,\n",
    "0.3598,\n",
    "0.4498,\n",
    "0.5397,\n",
    "0.6297 \n",
    "],\n",
    "[0.0000,\n",
    "0.0900,\n",
    "0.1799,\n",
    "0.2699,\n",
    "0.3598,\n",
    "0.4498,\n",
    "0.5397,\n",
    "0.6297 \n",
    "],\n",
    "[0.0000,\n",
    "0.0900,\n",
    "0.1799,\n",
    "0.2699,\n",
    "0.3598,\n",
    "0.4498,\n",
    "0.5397,\n",
    "0.6297\n",
    "]]"
   ]
  },
  {
   "cell_type": "code",
   "execution_count": null,
   "metadata": {},
   "outputs": [],
   "source": []
  },
  {
   "cell_type": "code",
   "execution_count": 32,
   "metadata": {},
   "outputs": [
    {
     "name": "stdout",
     "output_type": "stream",
     "text": [
      "15\n",
      "[-0.6297, -0.5397, -0.4498, -0.3598, -0.2699, -0.1799, -0.09, -0.0, 0.09, 0.1799, 0.2699, 0.3598, 0.4498, 0.5397, 0.6297] [8.237786069324248, 2.7072288482109186, 0.9055328375424964, 0.045382764227115, -0.4263306181037074, -0.6943889113130168, -0.8337354170418507, -0.877171880880566, -0.8337354170418507, -0.6943889113130168, -0.4263306181037074, 0.045382764227115, 0.9055328375424964, 2.7072288482109186, 8.237786069324248] \n",
      "\n",
      "15\n",
      "[-0.6297, -0.5397, -0.4498, -0.3598, -0.2699, -0.1799, -0.09, -0.0, 0.09, 0.1799, 0.2699, 0.3598, 0.4498, 0.5397, 0.6297] [7.441606306587431, 2.600102882023351, 0.8738180695671585, 0.032293515947097, -0.4328762330145048, -0.6981913173808261, -0.8363624300594985, -0.8794653131930803, -0.8363624300594985, -0.6981913173808261, -0.4328762330145048, 0.032293515947097, 0.8738180695671585, 2.600102882023351, 7.441606306587431] \n",
      "\n",
      "15\n",
      "[-0.6297, -0.5397, -0.4498, -0.3598, -0.2699, -0.1799, -0.09, -0.0, 0.09, 0.1799, 0.2699, 0.3598, 0.4498, 0.5397, 0.6297] [5.80047835152482, 2.3129947459780036, 0.7835854407198017, -0.0057764132360172, -0.4521149259962913, -0.7094334130837836, -0.8441560342409471, -0.886277940221802, -0.8441560342409471, -0.7094334130837836, -0.4521149259962913, -0.0057764132360172, 0.7835854407198017, 2.3129947459780036, 5.80047835152482] \n",
      "\n",
      "15\n",
      "[-0.6297, -0.5397, -0.4498, -0.3598, -0.2699, -0.1799, -0.09, -0.0, 0.09, 0.1799, 0.2699, 0.3598, 0.4498, 0.5397, 0.6297] [4.243470577434492, 1.9239041053973158, 0.6480803152439205, -0.0653215028247525, -0.4828144454903005, -0.7275793754237991, -0.8568204610313988, -0.8973750456749507, -0.8568204610313988, -0.7275793754237991, -0.4828144454903005, -0.0653215028247525, 0.6480803152439205, 1.9239041053973158, 4.243470577434492] \n",
      "\n",
      "15\n",
      "[-0.6297, -0.5397, -0.4498, -0.3598, -0.2699, -0.1799, -0.09, -0.0, 0.09, 0.1799, 0.2699, 0.3598, 0.4498, 0.5397, 0.6297] [3.023647556726721, 1.5041678112661754, 0.4828168387044129, -0.1419725171573736, -0.5234499242614923, -0.7519946071304677, -0.8740264544526788, -0.9125040718417043, -0.8740264544526788, -0.7519946071304677, -0.5234499242614923, -0.1419725171573736, 0.4828168387044129, 1.5041678112661754, 3.023647556726721] \n",
      "\n",
      "15\n",
      "[-0.6297, -0.5397, -0.4498, -0.3598, -0.2699, -0.1799, -0.09, -0.0, 0.09, 0.1799, 0.2699, 0.3598, 0.4498, 0.5397, 0.6297] [2.1109865299826787, 1.1020686615078579, 0.3036154458148803, -0.2303551158552481, -0.5719086074937927, -0.7817108152845993, -0.8952271621213599, -0.9312277731605472, -0.8952271621213599, -0.7817108152845993, -0.5719086074937927, -0.2303551158552481, 0.3036154458148803, 1.1020686615078579, 2.1109865299826787] \n",
      "\n",
      "15\n",
      "[-0.6297, -0.5397, -0.4498, -0.3598, -0.2699, -0.1799, -0.09, -0.0, 0.09, 0.1799, 0.2699, 0.3598, 0.4498, 0.5397, 0.6297] [1.4249194852023284, 0.7396838118880247, 0.1226663632114768, -0.3254660686628843, -0.6260366291922757, -0.8156919017626922, -0.9198219195027546, -0.9530613028983024, -0.9198219195027546, -0.8156919017626922, -0.6260366291922757, -0.3254660686628843, 0.1226663632114768, 0.7396838118880247, 1.4249194852023284] \n",
      "\n",
      "15\n",
      "[-0.6297, -0.5397, -0.4498, -0.3598, -0.2699, -0.1799, -0.09, -0.0, 0.09, 0.1799, 0.2699, 0.3598, 0.4498, 0.5397, 0.6297] [0.4902029907137861, 0.1511599180773489, -0.214832735785226, -0.5196976594792777, -0.7432441119461726, -0.8922136334782349, -0.9765948772210844, -1.0039141024178486, -0.9765948772210844, -0.8922136334782349, -0.7432441119461726, -0.5196976594792777, -0.214832735785226, 0.1511599180773489, 0.4902029907137861] \n",
      "\n"
     ]
    }
   ],
   "source": [
    "Energy_curves=[]\n",
    "Pos=[]\n",
    "for i in range(8):\n",
    "    energy_prime=[]\n",
    "    for j in range(0,8):\n",
    "        #print(i,j,separations2[i],positions2[i][j])\n",
    "        with open(str('%.4f' % separations2[i])+\"_\"+str('%.4f' %positions2[i][j])+\"_H2.Ecomponents\") as f:\n",
    "            lineList = f.readlines()\n",
    "        energy_prime.append(float(lineList[-1].split()[-1]))\n",
    "        #print(energy_prime)\n",
    "    #k=2*sep_mult[i]-1\n",
    "    #print(k)\n",
    "    #with open(str('%.4f' % separations2[i])+\"_\"+str('%.4f' %positions2[i][k])+\"_H2.Ecomponents\") as f:\n",
    "            #lineList = f.readlines()\n",
    "       \n",
    "    #x0=float(float(lineList[-1].split()[-1]))\n",
    "    Energy_curves.append(energy_prime[::-1]+energy_prime[1:])\n",
    "    print(size(energy_prime[::-1]+energy_prime[1:]))  \n",
    "    Pos.append(list(-np.array(positions2[i]))[::-1]+positions2[i][1:])\n",
    "    print(Pos[i],Energy_curves[i] ,'\\n')"
   ]
  },
  {
   "cell_type": "code",
   "execution_count": 33,
   "metadata": {},
   "outputs": [
    {
     "data": {
      "text/plain": [
       "<matplotlib.image.AxesImage at 0x7f0a3c93db00>"
      ]
     },
     "execution_count": 33,
     "metadata": {},
     "output_type": "execute_result"
    },
    {
     "data": {
      "image/png": "[encoded data removed]",
      "text/plain": [
       "<Figure size 432x288 with 1 Axes>"
      ]
     },
     "metadata": {},
     "output_type": "display_data"
    }
   ],
   "source": [
    "imshow(Energy_curves)"
   ]
  },
  {
   "cell_type": "code",
   "execution_count": 60,
   "metadata": {},
   "outputs": [
    {
     "data": {
      "text/plain": [
       "<matplotlib.collections.PathCollection at 0x7f0a3c347d68>"
      ]
     },
     "execution_count": 60,
     "metadata": {},
     "output_type": "execute_result"
    },
    {
     "data": {
      "image/png": "[encoded data removed]",
      "text/plain": [
       "<Figure size 432x288 with 1 Axes>"
      ]
     },
     "metadata": {},
     "output_type": "display_data"
    }
   ],
   "source": [
    "scatter(Pos[0],Energy_curves[0])\n",
    "u=1\n",
    "scatter(list(-np.array(separations2))[::-1]+separations2[1:],list(np.array(Energy_curves).T[u])[::-1]+list(np.array(Energy_curves).T[u])[1:])"
   ]
  },
  {
   "cell_type": "code",
   "execution_count": 58,
   "metadata": {},
   "outputs": [
    {
     "data": {
      "text/plain": [
       "[0.4902029907137861,\n",
       " 1.4249194852023284,\n",
       " 2.1109865299826787,\n",
       " 3.023647556726721,\n",
       " 4.243470577434492,\n",
       " 5.80047835152482,\n",
       " 7.441606306587431,\n",
       " 8.237786069324248]"
      ]
     },
     "execution_count": 58,
     "metadata": {},
     "output_type": "execute_result"
    }
   ],
   "source": [
    "list(np.array(Energy_curves).T[0])[::-1]"
   ]
  },
  {
   "cell_type": "code",
   "execution_count": null,
   "metadata": {},
   "outputs": [],
   "source": [
    "sep_mult=np.arange(4,9,1)\n",
    "separations=sep_mult*0.719643*2\n",
    "positions=[[j*0.71964/2 -separations[i]/2 for j in range(1,2*sep_mult[i]+1)] for i in range(size(sep_mult))]"
   ]
  },
  {
   "cell_type": "code",
   "execution_count": null,
   "metadata": {},
   "outputs": [],
   "source": []
  },
  {
   "cell_type": "code",
   "execution_count": 11,
   "metadata": {},
   "outputs": [],
   "source": [
    "positions2=[[-2.5188,\n",
    "-2.1590,\n",
    "-1.7991,\n",
    "-1.4393,\n",
    "-1.0795,\n",
    "-0.7197,\n",
    "-0.3598,\n",
    "-0.0000],\n",
    "[-3.2384,\n",
    "-2.8786,\n",
    "-2.5187,\n",
    "-2.1589,\n",
    "-1.7991,\n",
    "-1.4393,\n",
    "-1.0794,\n",
    "-0.7196,\n",
    "-0.3598,\n",
    "0.0000 \n",
    "],\n",
    "[-3.9581,\n",
    "-3.5983,\n",
    "-3.2384,\n",
    "-2.8786,\n",
    "-2.5188,\n",
    "-2.1590,\n",
    "-1.7991,\n",
    "-1.4393,\n",
    "-1.0795,\n",
    "-0.7197,\n",
    "-0.3599,\n",
    "-0.0000\n",
    "],\n",
    "[-4.6777,\n",
    "-4.3179,\n",
    "-3.9580,\n",
    "-3.5982,\n",
    "-3.2384,\n",
    "-2.8786,\n",
    "-2.5187,\n",
    "-2.1589,\n",
    "-1.7991,\n",
    "-1.4393,\n",
    "-1.0795,\n",
    "-0.7196,\n",
    "-0.3598,\n",
    "0.0000 \n",
    "],\n",
    "[-5.3973,\n",
    "-5.0375,\n",
    "-4.6776,\n",
    "-4.3178,\n",
    "-3.9580,\n",
    "-3.5982,\n",
    "-3.2383,\n",
    "-2.8785,\n",
    "-2.5187,\n",
    "-2.1589,\n",
    "-1.7991,\n",
    "-1.4392,\n",
    "-1.0794,\n",
    "-0.7196,\n",
    "-0.3598,\n",
    "0.0000   \n",
    "]]"
   ]
  },
  {
   "cell_type": "code",
   "execution_count": null,
   "metadata": {},
   "outputs": [],
   "source": [
    "with open(\"3.5982_-0.3598_H2.Ecomponents\") as f:\n",
    "    lineList = f.readlines()\n",
    "            \n",
    "x0=float(float(lineList[-1].split()[-1]))"
   ]
  },
  {
   "cell_type": "code",
   "execution_count": null,
   "metadata": {},
   "outputs": [],
   "source": [
    "x0"
   ]
  },
  {
   "cell_type": "code",
   "execution_count": null,
   "metadata": {},
   "outputs": [],
   "source": []
  }
 ],
 "metadata": {
  "kernelspec": {
   "display_name": "Python 3",
   "language": "python",
   "name": "python3"
  },
  "language_info": {
   "codemirror_mode": {
    "name": "ipython",
    "version": 3
   },
   "file_extension": ".py",
   "mimetype": "text/x-python",
   "name": "python",
   "nbconvert_exporter": "python",
   "pygments_lexer": "ipython3",
   "version": "3.6.5"
  }
 },
 "nbformat": 4,
 "nbformat_minor": 2
}
