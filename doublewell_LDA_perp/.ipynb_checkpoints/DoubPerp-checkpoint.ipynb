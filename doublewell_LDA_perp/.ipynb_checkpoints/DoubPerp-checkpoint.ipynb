{
 "cells": [
  {
   "cell_type": "code",
   "execution_count": 2,
   "metadata": {},
   "outputs": [
    {
     "name": "stdout",
     "output_type": "stream",
     "text": [
      "Populating the interactive namespace from numpy and matplotlib\n"
     ]
    }
   ],
   "source": [
    "%pylab inline\n"
   ]
  },
  {
   "cell_type": "code",
   "execution_count": 3,
   "metadata": {},
   "outputs": [],
   "source": [
    "sep_mult=np.arange(4,9,1)\n",
    "separations=sep_mult*0.719643*2\n",
    "positions=[[j*0.71964 -separations[i]/2 for j in range(1,sep_mult[i]+1)] for i in range(size(sep_mult))]"
   ]
  },
  {
   "cell_type": "code",
   "execution_count": null,
   "metadata": {},
   "outputs": [],
   "source": []
  },
  {
   "cell_type": "code",
   "execution_count": 4,
   "metadata": {},
   "outputs": [],
   "source": [
    "sep_mult=np.arange(0,5,1)"
   ]
  },
  {
   "cell_type": "code",
   "execution_count": 5,
   "metadata": {},
   "outputs": [],
   "source": [
    "\n",
    "separations2=[0.0000,0.1439,0.28790,0.4318,0.5757, 0.7197, 0.8636, 1.0075, 1.1514,1.2954,1.4393]\n"
   ]
  },
  {
   "cell_type": "code",
   "execution_count": 6,
   "metadata": {},
   "outputs": [],
   "source": [
    "positions2=[[0.0000,\n",
    "0.2879,\n",
    "0.5757,\n",
    "0.8636,\n",
    "1.1514,\n",
    "1.4393,\n",
    "1.7272,\n",
    "2.0150,\n",
    "2.3029,\n",
    "2.5907\n",
    "],[0.0000,\n",
    "0.2879,\n",
    "0.5757,\n",
    "0.8636,\n",
    "1.1514,\n",
    "1.4393,\n",
    "1.7272,\n",
    "2.0150,\n",
    "2.3029,\n",
    "2.5907\n",
    "],[0.0000,\n",
    "0.2879,\n",
    "0.5757,\n",
    "0.8636,\n",
    "1.1514,\n",
    "1.4393,\n",
    "1.7272,\n",
    "2.0150,\n",
    "2.3029,\n",
    "2.5907\n",
    "],\n",
    "[0.0000,\n",
    "0.2879,\n",
    "0.5757,\n",
    "0.8636,\n",
    "1.1514,\n",
    "1.4393,\n",
    "1.7272,\n",
    "2.0150,\n",
    "2.3029,\n",
    "2.5907\n",
    "],\n",
    "[0.0000,\n",
    "0.2879,\n",
    "0.5757,\n",
    "0.8636,\n",
    "1.1514,\n",
    "1.4393,\n",
    "1.7272,\n",
    "2.0150,\n",
    "2.3029,\n",
    "2.5907\n",
    "],\n",
    "[0.0000,\n",
    "0.2879,\n",
    "0.5757,\n",
    "0.8636,\n",
    "1.1514,\n",
    "1.4393,\n",
    "1.7272,\n",
    "2.0150,\n",
    "2.3029,\n",
    "2.5907\n",
    "],\n",
    "[0.0000,\n",
    "0.2879,\n",
    "0.5757,\n",
    "0.8636,\n",
    "1.1514,\n",
    "1.4393,\n",
    "1.7272,\n",
    "2.0150,\n",
    "2.3029,\n",
    "2.5907\n",
    "],\n",
    "[0.0000,\n",
    "0.2879,\n",
    "0.5757,\n",
    "0.8636,\n",
    "1.1514,\n",
    "1.4393,\n",
    "1.7272,\n",
    "2.0150,\n",
    "2.3029,\n",
    "2.5907\n",
    "],\n",
    "[0.0000,\n",
    "0.2879,\n",
    "0.5757,\n",
    "0.8636,\n",
    "1.1514,\n",
    "1.4393,\n",
    "1.7272,\n",
    "2.0150,\n",
    "2.3029,\n",
    "2.5907\n",
    "],\n",
    "[0.0000,\n",
    "0.2879,\n",
    "0.5757,\n",
    "0.8636,\n",
    "1.1514,\n",
    "1.4393,\n",
    "1.7272,\n",
    "2.0150,\n",
    "2.3029,\n",
    "2.5907\n",
    "],\n",
    "[0.0000,\n",
    "0.2879,\n",
    "0.5757,\n",
    "0.8636,\n",
    "1.1514,\n",
    "1.4393,\n",
    "1.7272,\n",
    "2.0150,\n",
    "2.3029,\n",
    "2.5907\n",
    "]]"
   ]
  },
  {
   "cell_type": "code",
   "execution_count": 7,
   "metadata": {},
   "outputs": [],
   "source": [
    "Energy_curves=[]\n",
    "Pos=[]\n",
    "for i in range(11):\n",
    "    energy_prime=[]\n",
    "    for j in range(0,10):\n",
    "        #print(i,j,separations2[i],positions2[i][j])\n",
    "        with open(str('%.4f' % separations2[i])+\"_\"+str('%.4f' %positions2[i][j])+\"_H2.Ecomponents\") as f:\n",
    "            lineList = f.readlines()\n",
    "        energy_prime.append(float(lineList[-1].split()[-1]))\n",
    "        #print(energy_prime)\n",
    "    #k=2*sep_mult[i]-1\n",
    "    #print(k)\n",
    "    #with open(str('%.4f' % separations2[i])+\"_\"+str('%.4f' %positions2[i][k])+\"_H2.Ecomponents\") as f:\n",
    "            #lineList = f.readlines()\n",
    "            \n",
    "    #x0=float(float(lineList[-1].split()[-1]))\n",
    "    Energy_curves.append(energy_prime[::-1]+energy_prime[1:])\n",
    "    Pos.append(list(-np.array(positions2[i]))[::-1]+positions2[i][1:])\n",
    "    #print(Pos[i],Energy_curves[i] ,'\\n')"
   ]
  },
  {
   "cell_type": "code",
   "execution_count": 8,
   "metadata": {},
   "outputs": [
    {
     "data": {
      "text/plain": [
       "<matplotlib.image.AxesImage at 0x7f1db6cafe10>"
      ]
     },
     "execution_count": 8,
     "metadata": {},
     "output_type": "execute_result"
    },
    {
     "data": {
      "image/png": "[encoded data removed]",
      "text/plain": [
       "<Figure size 432x288 with 1 Axes>"
      ]
     },
     "metadata": {},
     "output_type": "display_data"
    }
   ],
   "source": [
    "imshow(Energy_curves)"
   ]
  },
  {
   "cell_type": "code",
   "execution_count": 16,
   "metadata": {},
   "outputs": [
    {
     "data": {
      "image/png": "[encoded data removed]",
      "text/plain": [
       "<Figure size 432x288 with 1 Axes>"
      ]
     },
     "metadata": {},
     "output_type": "display_data"
    }
   ],
   "source": [
    "scatter(Pos[5],Energy_curves[5])\n",
    "u=3\n",
    "#scatter(list(-np.array(separations2))[::-1]+separations2[1:],list(np.array(Energy_curves).T[u])[::-1]+list(np.array(Energy_curves).T[u])[1:])"
   ]
  },
  {
   "cell_type": "code",
   "execution_count": 75,
   "metadata": {},
   "outputs": [
    {
     "data": {
      "text/plain": [
       "[-1.4393,\n",
       " -1.2954,\n",
       " -1.1514,\n",
       " -1.0075,\n",
       " -0.8636,\n",
       " -0.7197,\n",
       " -0.5757,\n",
       " -0.4318,\n",
       " -0.2879,\n",
       " -0.1439,\n",
       " -0.0,\n",
       " 0.1439,\n",
       " 0.2879,\n",
       " 0.4318,\n",
       " 0.5757,\n",
       " 0.7197,\n",
       " 0.8636,\n",
       " 1.0075,\n",
       " 1.1514,\n",
       " 1.2954,\n",
       " 1.4393]"
      ]
     },
     "execution_count": 75,
     "metadata": {},
     "output_type": "execute_result"
    }
   ],
   "source": [
    "list(-np.array(separations2))[::-1]+separations2[1:]"
   ]
  },
  {
   "cell_type": "code",
   "execution_count": null,
   "metadata": {},
   "outputs": [],
   "source": [
    "sep_mult=np.arange(4,9,1)\n",
    "separations=sep_mult*0.719643*2\n",
    "positions=[[j*0.71964/2 -separations[i]/2 for j in range(1,2*sep_mult[i]+1)] for i in range(size(sep_mult))]"
   ]
  },
  {
   "cell_type": "code",
   "execution_count": null,
   "metadata": {},
   "outputs": [],
   "source": []
  },
  {
   "cell_type": "code",
   "execution_count": 11,
   "metadata": {},
   "outputs": [],
   "source": []
  },
  {
   "cell_type": "code",
   "execution_count": null,
   "metadata": {},
   "outputs": [],
   "source": [
    "with open(\"3.5982_-0.3598_H2.Ecomponents\") as f:\n",
    "    lineList = f.readlines()\n",
    "            \n",
    "x0=float(float(lineList[-1].split()[-1]))"
   ]
  },
  {
   "cell_type": "code",
   "execution_count": null,
   "metadata": {},
   "outputs": [],
   "source": [
    "x0"
   ]
  },
  {
   "cell_type": "code",
   "execution_count": 57,
   "metadata": {},
   "outputs": [],
   "source": [
    "mini=min(np.array(Energy_curves).reshape(-1))"
   ]
  },
  {
   "cell_type": "code",
   "execution_count": 66,
   "metadata": {},
   "outputs": [
    {
     "data": {
      "text/plain": [
       "<matplotlib.colorbar.Colorbar at 0x7f1db6114b70>"
      ]
     },
     "execution_count": 66,
     "metadata": {},
     "output_type": "execute_result"
    },
    {
     "data": {
      "image/png": "[encoded data removed]",
      "text/plain": [
       "<Figure size 432x288 with 2 Axes>"
      ]
     },
     "metadata": {},
     "output_type": "display_data"
    }
   ],
   "source": [
    "imshow(log10(np.array(Energy_curves)-mini+exp(-7)))\n",
    "colorbar()"
   ]
  },
  {
   "cell_type": "code",
   "execution_count": 63,
   "metadata": {},
   "outputs": [],
   "source": []
  },
  {
   "cell_type": "code",
   "execution_count": 64,
   "metadata": {},
   "outputs": [],
   "source": [
    "ene=np.array(Energy_curves).reshape(-1)[np.where(np.array(Energy_curves).reshape(-1) < -1.5)[0]]\n",
    "posi=np.array(Pos).reshape(-1)[np.where(np.array(Energy_curves).reshape(-1) < -1.5)[0]]"
   ]
  },
  {
   "cell_type": "code",
   "execution_count": 65,
   "metadata": {},
   "outputs": [
    {
     "data": {
      "text/plain": [
       "<matplotlib.collections.PathCollection at 0x7f1db61939b0>"
      ]
     },
     "execution_count": 65,
     "metadata": {},
     "output_type": "execute_result"
    },
    {
     "data": {
      "image/png": "[encoded data removed]",
      "text/plain": [
       "<Figure size 432x288 with 1 Axes>"
      ]
     },
     "metadata": {},
     "output_type": "display_data"
    }
   ],
   "source": [
    "scatter(posi, eane)"
   ]
  },
  {
   "cell_type": "code",
   "execution_count": null,
   "metadata": {},
   "outputs": [],
   "source": []
  },
  {
   "cell_type": "code",
   "execution_count": null,
   "metadata": {},
   "outputs": [],
   "source": []
  }
 ],
 "metadata": {
  "kernelspec": {
   "display_name": "Python 3",
   "language": "python",
   "name": "python3"
  },
  "language_info": {
   "codemirror_mode": {
    "name": "ipython",
    "version": 3
   },
   "file_extension": ".py",
   "mimetype": "text/x-python",
   "name": "python",
   "nbconvert_exporter": "python",
   "pygments_lexer": "ipython3",
   "version": "3.6.5"
  }
 },
 "nbformat": 4,
 "nbformat_minor": 2
}
